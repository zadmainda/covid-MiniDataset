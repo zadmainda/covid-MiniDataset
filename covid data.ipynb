{
 "cells": [
  {
   "cell_type": "code",
   "execution_count": 122,
   "id": "bd2e3984",
   "metadata": {},
   "outputs": [],
   "source": [
    "import numpy as np\n",
    "import pandas as pd\n",
    "import matplotlib.pyplot as plt\n",
    "import seaborn as sb\n",
    "import datetime\n",
    "    \n",
    "    \n",
    "%matplotlib inline"
   ]
  },
  {
   "cell_type": "code",
   "execution_count": 123,
   "id": "f87beadd",
   "metadata": {},
   "outputs": [],
   "source": [
    "covid_data = pd.read_csv('covid_data.csv')"
   ]
  },
  {
   "cell_type": "code",
   "execution_count": 124,
   "id": "30c2b813",
   "metadata": {},
   "outputs": [
    {
     "data": {
      "text/html": [
       "<div>\n",
       "<style scoped>\n",
       "    .dataframe tbody tr th:only-of-type {\n",
       "        vertical-align: middle;\n",
       "    }\n",
       "\n",
       "    .dataframe tbody tr th {\n",
       "        vertical-align: top;\n",
       "    }\n",
       "\n",
       "    .dataframe thead th {\n",
       "        text-align: right;\n",
       "    }\n",
       "</style>\n",
       "<table border=\"1\" class=\"dataframe\">\n",
       "  <thead>\n",
       "    <tr style=\"text-align: right;\">\n",
       "      <th></th>\n",
       "      <th>location</th>\n",
       "      <th>date</th>\n",
       "      <th>new_cases</th>\n",
       "      <th>new_deaths</th>\n",
       "      <th>population</th>\n",
       "      <th>aged_65_older_percent</th>\n",
       "      <th>gdp_per_capita</th>\n",
       "      <th>hospital_beds_per_thousand</th>\n",
       "    </tr>\n",
       "  </thead>\n",
       "  <tbody>\n",
       "    <tr>\n",
       "      <th>0</th>\n",
       "      <td>Afghanistan</td>\n",
       "      <td>2019-12-31</td>\n",
       "      <td>0</td>\n",
       "      <td>0</td>\n",
       "      <td>38928341.0</td>\n",
       "      <td>2.581</td>\n",
       "      <td>1803.987</td>\n",
       "      <td>0.5</td>\n",
       "    </tr>\n",
       "    <tr>\n",
       "      <th>1</th>\n",
       "      <td>Afghanistan</td>\n",
       "      <td>2020-01-01</td>\n",
       "      <td>0</td>\n",
       "      <td>0</td>\n",
       "      <td>38928341.0</td>\n",
       "      <td>2.581</td>\n",
       "      <td>1803.987</td>\n",
       "      <td>0.5</td>\n",
       "    </tr>\n",
       "    <tr>\n",
       "      <th>2</th>\n",
       "      <td>Afghanistan</td>\n",
       "      <td>2020-01-02</td>\n",
       "      <td>0</td>\n",
       "      <td>0</td>\n",
       "      <td>38928341.0</td>\n",
       "      <td>2.581</td>\n",
       "      <td>1803.987</td>\n",
       "      <td>0.5</td>\n",
       "    </tr>\n",
       "    <tr>\n",
       "      <th>3</th>\n",
       "      <td>Afghanistan</td>\n",
       "      <td>2020-01-03</td>\n",
       "      <td>0</td>\n",
       "      <td>0</td>\n",
       "      <td>38928341.0</td>\n",
       "      <td>2.581</td>\n",
       "      <td>1803.987</td>\n",
       "      <td>0.5</td>\n",
       "    </tr>\n",
       "    <tr>\n",
       "      <th>4</th>\n",
       "      <td>Afghanistan</td>\n",
       "      <td>2020-01-04</td>\n",
       "      <td>0</td>\n",
       "      <td>0</td>\n",
       "      <td>38928341.0</td>\n",
       "      <td>2.581</td>\n",
       "      <td>1803.987</td>\n",
       "      <td>0.5</td>\n",
       "    </tr>\n",
       "    <tr>\n",
       "      <th>5</th>\n",
       "      <td>Afghanistan</td>\n",
       "      <td>2020-01-05</td>\n",
       "      <td>0</td>\n",
       "      <td>0</td>\n",
       "      <td>38928341.0</td>\n",
       "      <td>2.581</td>\n",
       "      <td>1803.987</td>\n",
       "      <td>0.5</td>\n",
       "    </tr>\n",
       "    <tr>\n",
       "      <th>6</th>\n",
       "      <td>Afghanistan</td>\n",
       "      <td>2020-01-06</td>\n",
       "      <td>0</td>\n",
       "      <td>0</td>\n",
       "      <td>38928341.0</td>\n",
       "      <td>2.581</td>\n",
       "      <td>1803.987</td>\n",
       "      <td>0.5</td>\n",
       "    </tr>\n",
       "    <tr>\n",
       "      <th>7</th>\n",
       "      <td>Afghanistan</td>\n",
       "      <td>2020-01-07</td>\n",
       "      <td>0</td>\n",
       "      <td>0</td>\n",
       "      <td>38928341.0</td>\n",
       "      <td>2.581</td>\n",
       "      <td>1803.987</td>\n",
       "      <td>0.5</td>\n",
       "    </tr>\n",
       "    <tr>\n",
       "      <th>8</th>\n",
       "      <td>Afghanistan</td>\n",
       "      <td>2020-01-08</td>\n",
       "      <td>0</td>\n",
       "      <td>0</td>\n",
       "      <td>38928341.0</td>\n",
       "      <td>2.581</td>\n",
       "      <td>1803.987</td>\n",
       "      <td>0.5</td>\n",
       "    </tr>\n",
       "    <tr>\n",
       "      <th>9</th>\n",
       "      <td>Afghanistan</td>\n",
       "      <td>2020-01-09</td>\n",
       "      <td>0</td>\n",
       "      <td>0</td>\n",
       "      <td>38928341.0</td>\n",
       "      <td>2.581</td>\n",
       "      <td>1803.987</td>\n",
       "      <td>0.5</td>\n",
       "    </tr>\n",
       "    <tr>\n",
       "      <th>10</th>\n",
       "      <td>Afghanistan</td>\n",
       "      <td>2020-01-10</td>\n",
       "      <td>0</td>\n",
       "      <td>0</td>\n",
       "      <td>38928341.0</td>\n",
       "      <td>2.581</td>\n",
       "      <td>1803.987</td>\n",
       "      <td>0.5</td>\n",
       "    </tr>\n",
       "    <tr>\n",
       "      <th>11</th>\n",
       "      <td>Afghanistan</td>\n",
       "      <td>2020-01-11</td>\n",
       "      <td>0</td>\n",
       "      <td>0</td>\n",
       "      <td>38928341.0</td>\n",
       "      <td>2.581</td>\n",
       "      <td>1803.987</td>\n",
       "      <td>0.5</td>\n",
       "    </tr>\n",
       "    <tr>\n",
       "      <th>12</th>\n",
       "      <td>Afghanistan</td>\n",
       "      <td>2020-01-12</td>\n",
       "      <td>0</td>\n",
       "      <td>0</td>\n",
       "      <td>38928341.0</td>\n",
       "      <td>2.581</td>\n",
       "      <td>1803.987</td>\n",
       "      <td>0.5</td>\n",
       "    </tr>\n",
       "    <tr>\n",
       "      <th>13</th>\n",
       "      <td>Afghanistan</td>\n",
       "      <td>2020-01-13</td>\n",
       "      <td>0</td>\n",
       "      <td>0</td>\n",
       "      <td>38928341.0</td>\n",
       "      <td>2.581</td>\n",
       "      <td>1803.987</td>\n",
       "      <td>0.5</td>\n",
       "    </tr>\n",
       "    <tr>\n",
       "      <th>14</th>\n",
       "      <td>Afghanistan</td>\n",
       "      <td>2020-01-14</td>\n",
       "      <td>0</td>\n",
       "      <td>0</td>\n",
       "      <td>38928341.0</td>\n",
       "      <td>2.581</td>\n",
       "      <td>1803.987</td>\n",
       "      <td>0.5</td>\n",
       "    </tr>\n",
       "    <tr>\n",
       "      <th>15</th>\n",
       "      <td>Afghanistan</td>\n",
       "      <td>2020-01-15</td>\n",
       "      <td>0</td>\n",
       "      <td>0</td>\n",
       "      <td>38928341.0</td>\n",
       "      <td>2.581</td>\n",
       "      <td>1803.987</td>\n",
       "      <td>0.5</td>\n",
       "    </tr>\n",
       "    <tr>\n",
       "      <th>16</th>\n",
       "      <td>Afghanistan</td>\n",
       "      <td>2020-01-16</td>\n",
       "      <td>0</td>\n",
       "      <td>0</td>\n",
       "      <td>38928341.0</td>\n",
       "      <td>2.581</td>\n",
       "      <td>1803.987</td>\n",
       "      <td>0.5</td>\n",
       "    </tr>\n",
       "    <tr>\n",
       "      <th>17</th>\n",
       "      <td>Afghanistan</td>\n",
       "      <td>2020-01-17</td>\n",
       "      <td>0</td>\n",
       "      <td>0</td>\n",
       "      <td>38928341.0</td>\n",
       "      <td>2.581</td>\n",
       "      <td>1803.987</td>\n",
       "      <td>0.5</td>\n",
       "    </tr>\n",
       "    <tr>\n",
       "      <th>18</th>\n",
       "      <td>Afghanistan</td>\n",
       "      <td>2020-01-18</td>\n",
       "      <td>0</td>\n",
       "      <td>0</td>\n",
       "      <td>38928341.0</td>\n",
       "      <td>2.581</td>\n",
       "      <td>1803.987</td>\n",
       "      <td>0.5</td>\n",
       "    </tr>\n",
       "    <tr>\n",
       "      <th>19</th>\n",
       "      <td>Afghanistan</td>\n",
       "      <td>2020-01-19</td>\n",
       "      <td>0</td>\n",
       "      <td>0</td>\n",
       "      <td>38928341.0</td>\n",
       "      <td>2.581</td>\n",
       "      <td>1803.987</td>\n",
       "      <td>0.5</td>\n",
       "    </tr>\n",
       "  </tbody>\n",
       "</table>\n",
       "</div>"
      ],
      "text/plain": [
       "       location        date  new_cases  new_deaths  population  \\\n",
       "0   Afghanistan  2019-12-31          0           0  38928341.0   \n",
       "1   Afghanistan  2020-01-01          0           0  38928341.0   \n",
       "2   Afghanistan  2020-01-02          0           0  38928341.0   \n",
       "3   Afghanistan  2020-01-03          0           0  38928341.0   \n",
       "4   Afghanistan  2020-01-04          0           0  38928341.0   \n",
       "5   Afghanistan  2020-01-05          0           0  38928341.0   \n",
       "6   Afghanistan  2020-01-06          0           0  38928341.0   \n",
       "7   Afghanistan  2020-01-07          0           0  38928341.0   \n",
       "8   Afghanistan  2020-01-08          0           0  38928341.0   \n",
       "9   Afghanistan  2020-01-09          0           0  38928341.0   \n",
       "10  Afghanistan  2020-01-10          0           0  38928341.0   \n",
       "11  Afghanistan  2020-01-11          0           0  38928341.0   \n",
       "12  Afghanistan  2020-01-12          0           0  38928341.0   \n",
       "13  Afghanistan  2020-01-13          0           0  38928341.0   \n",
       "14  Afghanistan  2020-01-14          0           0  38928341.0   \n",
       "15  Afghanistan  2020-01-15          0           0  38928341.0   \n",
       "16  Afghanistan  2020-01-16          0           0  38928341.0   \n",
       "17  Afghanistan  2020-01-17          0           0  38928341.0   \n",
       "18  Afghanistan  2020-01-18          0           0  38928341.0   \n",
       "19  Afghanistan  2020-01-19          0           0  38928341.0   \n",
       "\n",
       "    aged_65_older_percent  gdp_per_capita  hospital_beds_per_thousand  \n",
       "0                   2.581        1803.987                         0.5  \n",
       "1                   2.581        1803.987                         0.5  \n",
       "2                   2.581        1803.987                         0.5  \n",
       "3                   2.581        1803.987                         0.5  \n",
       "4                   2.581        1803.987                         0.5  \n",
       "5                   2.581        1803.987                         0.5  \n",
       "6                   2.581        1803.987                         0.5  \n",
       "7                   2.581        1803.987                         0.5  \n",
       "8                   2.581        1803.987                         0.5  \n",
       "9                   2.581        1803.987                         0.5  \n",
       "10                  2.581        1803.987                         0.5  \n",
       "11                  2.581        1803.987                         0.5  \n",
       "12                  2.581        1803.987                         0.5  \n",
       "13                  2.581        1803.987                         0.5  \n",
       "14                  2.581        1803.987                         0.5  \n",
       "15                  2.581        1803.987                         0.5  \n",
       "16                  2.581        1803.987                         0.5  \n",
       "17                  2.581        1803.987                         0.5  \n",
       "18                  2.581        1803.987                         0.5  \n",
       "19                  2.581        1803.987                         0.5  "
      ]
     },
     "execution_count": 124,
     "metadata": {},
     "output_type": "execute_result"
    }
   ],
   "source": [
    "covid_data.head(20)"
   ]
  },
  {
   "cell_type": "code",
   "execution_count": 125,
   "id": "f8ff9210",
   "metadata": {},
   "outputs": [
    {
     "data": {
      "text/plain": [
       "(23082, 8)"
      ]
     },
     "execution_count": 125,
     "metadata": {},
     "output_type": "execute_result"
    }
   ],
   "source": [
    "covid_data.shape"
   ]
  },
  {
   "cell_type": "code",
   "execution_count": 126,
   "id": "ecf43367",
   "metadata": {},
   "outputs": [
    {
     "name": "stdout",
     "output_type": "stream",
     "text": [
      "<class 'pandas.core.frame.DataFrame'>\n",
      "RangeIndex: 23082 entries, 0 to 23081\n",
      "Data columns (total 8 columns):\n",
      " #   Column                      Non-Null Count  Dtype  \n",
      "---  ------                      --------------  -----  \n",
      " 0   location                    23082 non-null  object \n",
      " 1   date                        23082 non-null  object \n",
      " 2   new_cases                   23082 non-null  int64  \n",
      " 3   new_deaths                  23082 non-null  int64  \n",
      " 4   population                  23018 non-null  float64\n",
      " 5   aged_65_older_percent       20643 non-null  float64\n",
      " 6   gdp_per_capita              20711 non-null  float64\n",
      " 7   hospital_beds_per_thousand  19144 non-null  float64\n",
      "dtypes: float64(4), int64(2), object(2)\n",
      "memory usage: 1.4+ MB\n"
     ]
    }
   ],
   "source": [
    "covid_data.info()"
   ]
  },
  {
   "cell_type": "code",
   "execution_count": 127,
   "id": "87666288",
   "metadata": {},
   "outputs": [
    {
     "data": {
      "text/html": [
       "<div>\n",
       "<style scoped>\n",
       "    .dataframe tbody tr th:only-of-type {\n",
       "        vertical-align: middle;\n",
       "    }\n",
       "\n",
       "    .dataframe tbody tr th {\n",
       "        vertical-align: top;\n",
       "    }\n",
       "\n",
       "    .dataframe thead th {\n",
       "        text-align: right;\n",
       "    }\n",
       "</style>\n",
       "<table border=\"1\" class=\"dataframe\">\n",
       "  <thead>\n",
       "    <tr style=\"text-align: right;\">\n",
       "      <th></th>\n",
       "      <th>new_cases</th>\n",
       "      <th>new_deaths</th>\n",
       "      <th>population</th>\n",
       "      <th>aged_65_older_percent</th>\n",
       "      <th>gdp_per_capita</th>\n",
       "      <th>hospital_beds_per_thousand</th>\n",
       "    </tr>\n",
       "  </thead>\n",
       "  <tbody>\n",
       "    <tr>\n",
       "      <th>count</th>\n",
       "      <td>23082.000000</td>\n",
       "      <td>23082.000000</td>\n",
       "      <td>2.301800e+04</td>\n",
       "      <td>20643.000000</td>\n",
       "      <td>20711.000000</td>\n",
       "      <td>19144.000000</td>\n",
       "    </tr>\n",
       "    <tr>\n",
       "      <th>mean</th>\n",
       "      <td>624.769257</td>\n",
       "      <td>35.629062</td>\n",
       "      <td>1.037003e+08</td>\n",
       "      <td>9.758570</td>\n",
       "      <td>22708.384791</td>\n",
       "      <td>3.204687</td>\n",
       "    </tr>\n",
       "    <tr>\n",
       "      <th>std</th>\n",
       "      <td>5517.309068</td>\n",
       "      <td>330.986941</td>\n",
       "      <td>6.716897e+08</td>\n",
       "      <td>6.445662</td>\n",
       "      <td>21187.826121</td>\n",
       "      <td>2.593700</td>\n",
       "    </tr>\n",
       "    <tr>\n",
       "      <th>min</th>\n",
       "      <td>-2461.000000</td>\n",
       "      <td>-1918.000000</td>\n",
       "      <td>8.090000e+02</td>\n",
       "      <td>1.144000</td>\n",
       "      <td>661.240000</td>\n",
       "      <td>0.100000</td>\n",
       "    </tr>\n",
       "    <tr>\n",
       "      <th>25%</th>\n",
       "      <td>0.000000</td>\n",
       "      <td>0.000000</td>\n",
       "      <td>2.083380e+06</td>\n",
       "      <td>3.853000</td>\n",
       "      <td>6426.674000</td>\n",
       "      <td>1.400000</td>\n",
       "    </tr>\n",
       "    <tr>\n",
       "      <th>50%</th>\n",
       "      <td>3.000000</td>\n",
       "      <td>0.000000</td>\n",
       "      <td>9.449321e+06</td>\n",
       "      <td>7.646000</td>\n",
       "      <td>15524.995000</td>\n",
       "      <td>2.600000</td>\n",
       "    </tr>\n",
       "    <tr>\n",
       "      <th>75%</th>\n",
       "      <td>55.000000</td>\n",
       "      <td>1.000000</td>\n",
       "      <td>3.346920e+07</td>\n",
       "      <td>15.322000</td>\n",
       "      <td>35220.084000</td>\n",
       "      <td>4.210000</td>\n",
       "    </tr>\n",
       "    <tr>\n",
       "      <th>max</th>\n",
       "      <td>133510.000000</td>\n",
       "      <td>10520.000000</td>\n",
       "      <td>7.794799e+09</td>\n",
       "      <td>27.049000</td>\n",
       "      <td>116935.600000</td>\n",
       "      <td>13.800000</td>\n",
       "    </tr>\n",
       "  </tbody>\n",
       "</table>\n",
       "</div>"
      ],
      "text/plain": [
       "           new_cases    new_deaths    population  aged_65_older_percent  \\\n",
       "count   23082.000000  23082.000000  2.301800e+04           20643.000000   \n",
       "mean      624.769257     35.629062  1.037003e+08               9.758570   \n",
       "std      5517.309068    330.986941  6.716897e+08               6.445662   \n",
       "min     -2461.000000  -1918.000000  8.090000e+02               1.144000   \n",
       "25%         0.000000      0.000000  2.083380e+06               3.853000   \n",
       "50%         3.000000      0.000000  9.449321e+06               7.646000   \n",
       "75%        55.000000      1.000000  3.346920e+07              15.322000   \n",
       "max    133510.000000  10520.000000  7.794799e+09              27.049000   \n",
       "\n",
       "       gdp_per_capita  hospital_beds_per_thousand  \n",
       "count    20711.000000                19144.000000  \n",
       "mean     22708.384791                    3.204687  \n",
       "std      21187.826121                    2.593700  \n",
       "min        661.240000                    0.100000  \n",
       "25%       6426.674000                    1.400000  \n",
       "50%      15524.995000                    2.600000  \n",
       "75%      35220.084000                    4.210000  \n",
       "max     116935.600000                   13.800000  "
      ]
     },
     "execution_count": 127,
     "metadata": {},
     "output_type": "execute_result"
    }
   ],
   "source": [
    "covid_data.describe()"
   ]
  },
  {
   "cell_type": "code",
   "execution_count": 128,
   "id": "c17993b4",
   "metadata": {},
   "outputs": [],
   "source": [
    "# assert that there are no duplicated rows in the dataframe\n",
    "assert(covid_data.duplicated().sum() == 0 )\n"
   ]
  },
  {
   "cell_type": "code",
   "execution_count": 129,
   "id": "457c095d",
   "metadata": {},
   "outputs": [],
   "source": [
    "# dataframe name (covid_data) is hardcoded in the function:\n",
    "    # Takes column name as param \n",
    "    # returns unique in indicated column\n",
    "    \n",
    "def entries(columnName):\n",
    "    #param: name of column\n",
    "    global covid_data\n",
    "    df = covid_data\n",
    "    return df[columnName].unique()"
   ]
  },
  {
   "cell_type": "code",
   "execution_count": 130,
   "id": "8a96f0b6",
   "metadata": {},
   "outputs": [
    {
     "data": {
      "text/plain": [
       "array(['Afghanistan', 'Albania', 'Algeria', 'Andorra', 'Angola',\n",
       "       'Anguilla', 'Antigua and Barbuda', 'Argentina', 'Armenia', 'Aruba',\n",
       "       'Australia', 'Austria', 'Azerbaijan', 'Bahamas', 'Bahrain',\n",
       "       'Bangladesh', 'Barbados', 'Belarus', 'Belgium', 'Belize', 'Benin',\n",
       "       'Bermuda', 'Bhutan', 'Bolivia', 'Bonaire Sint Eustatius and Saba',\n",
       "       'Bosnia and Herzegovina', 'Botswana', 'Brazil',\n",
       "       'British Virgin Islands', 'Brunei', 'Bulgaria', 'Burkina Faso',\n",
       "       'Burundi', 'Cambodia', 'Cameroon', 'Canada', 'Cape Verde',\n",
       "       'Cayman Islands', 'Central African Republic', 'Chad', 'Chile',\n",
       "       'China', 'Colombia', 'Comoros', 'Congo', 'Costa Rica',\n",
       "       \"Cote d'Ivoire\", 'Croatia', 'Cuba', 'Curacao', 'Cyprus',\n",
       "       'Czech Republic', 'Democratic Republic of Congo', 'Denmark',\n",
       "       'Djibouti', 'Dominica', 'Dominican Republic', 'Ecuador', 'Egypt',\n",
       "       'El Salvador', 'Equatorial Guinea', 'Eritrea', 'Estonia',\n",
       "       'Ethiopia', 'Faeroe Islands', 'Falkland Islands', 'Fiji',\n",
       "       'Finland', 'France', 'French Polynesia', 'Gabon', 'Gambia',\n",
       "       'Georgia', 'Germany', 'Ghana', 'Gibraltar', 'Greece', 'Greenland',\n",
       "       'Grenada', 'Guam', 'Guatemala', 'Guernsey', 'Guinea',\n",
       "       'Guinea-Bissau', 'Guyana', 'Haiti', 'Honduras', 'Hong Kong',\n",
       "       'Hungary', 'Iceland', 'India', 'Indonesia', 'Iran', 'Iraq',\n",
       "       'Ireland', 'Isle of Man', 'Israel', 'Italy', 'Jamaica', 'Japan',\n",
       "       'Jersey', 'Jordan', 'Kazakhstan', 'Kenya', 'Kosovo', 'Kuwait',\n",
       "       'Kyrgyzstan', 'Laos', 'Latvia', 'Lebanon', 'Lesotho', 'Liberia',\n",
       "       'Libya', 'Liechtenstein', 'Lithuania', 'Luxembourg', 'Macedonia',\n",
       "       'Madagascar', 'Malawi', 'Malaysia', 'Maldives', 'Mali', 'Malta',\n",
       "       'Mauritania', 'Mauritius', 'Mexico', 'Moldova', 'Monaco',\n",
       "       'Mongolia', 'Montenegro', 'Montserrat', 'Morocco', 'Mozambique',\n",
       "       'Myanmar', 'Namibia', 'Nepal', 'Netherlands', 'New Caledonia',\n",
       "       'New Zealand', 'Nicaragua', 'Niger', 'Nigeria',\n",
       "       'Northern Mariana Islands', 'Norway', 'Oman', 'Pakistan',\n",
       "       'Palestine', 'Panama', 'Papua New Guinea', 'Paraguay', 'Peru',\n",
       "       'Philippines', 'Poland', 'Portugal', 'Puerto Rico', 'Qatar',\n",
       "       'Romania', 'Russia', 'Rwanda', 'Saint Kitts and Nevis',\n",
       "       'Saint Lucia', 'Saint Vincent and the Grenadines', 'San Marino',\n",
       "       'Sao Tome and Principe', 'Saudi Arabia', 'Senegal', 'Serbia',\n",
       "       'Seychelles', 'Sierra Leone', 'Singapore',\n",
       "       'Sint Maarten (Dutch part)', 'Slovakia', 'Slovenia', 'Somalia',\n",
       "       'South Africa', 'South Korea', 'South Sudan', 'Spain', 'Sri Lanka',\n",
       "       'Sudan', 'Suriname', 'Swaziland', 'Sweden', 'Switzerland', 'Syria',\n",
       "       'Taiwan', 'Tajikistan', 'Tanzania', 'Thailand', 'Timor', 'Togo',\n",
       "       'Trinidad and Tobago', 'Tunisia', 'Turkey',\n",
       "       'Turks and Caicos Islands', 'Uganda', 'Ukraine',\n",
       "       'United Arab Emirates', 'United Kingdom', 'United States',\n",
       "       'United States Virgin Islands', 'Uruguay', 'Uzbekistan', 'Vatican',\n",
       "       'Venezuela', 'Vietnam', 'Western Sahara', 'Yemen', 'Zambia',\n",
       "       'Zimbabwe', 'World', 'International'], dtype=object)"
      ]
     },
     "execution_count": 130,
     "metadata": {},
     "output_type": "execute_result"
    }
   ],
   "source": [
    "entries('location')"
   ]
  },
  {
   "cell_type": "code",
   "execution_count": 131,
   "id": "5b6d16a4",
   "metadata": {},
   "outputs": [
    {
     "data": {
      "text/plain": [
       "False"
      ]
     },
     "execution_count": 131,
     "metadata": {},
     "output_type": "execute_result"
    }
   ],
   "source": [
    "#investigate\n",
    "covid_data.location.isnull().sum().any()"
   ]
  },
  {
   "cell_type": "code",
   "execution_count": 132,
   "id": "4b6d2d86",
   "metadata": {},
   "outputs": [],
   "source": [
    "#Countries without population figures\n",
    "countries_no_population_figures = covid_data[covid_data['population'].isnull()]"
   ]
  },
  {
   "cell_type": "code",
   "execution_count": 133,
   "id": "536cac1b",
   "metadata": {},
   "outputs": [
    {
     "data": {
      "text/html": [
       "<div>\n",
       "<style scoped>\n",
       "    .dataframe tbody tr th:only-of-type {\n",
       "        vertical-align: middle;\n",
       "    }\n",
       "\n",
       "    .dataframe tbody tr th {\n",
       "        vertical-align: top;\n",
       "    }\n",
       "\n",
       "    .dataframe thead th {\n",
       "        text-align: right;\n",
       "    }\n",
       "</style>\n",
       "<table border=\"1\" class=\"dataframe\">\n",
       "  <thead>\n",
       "    <tr style=\"text-align: right;\">\n",
       "      <th></th>\n",
       "      <th>location</th>\n",
       "      <th>date</th>\n",
       "      <th>new_cases</th>\n",
       "      <th>new_deaths</th>\n",
       "      <th>population</th>\n",
       "      <th>aged_65_older_percent</th>\n",
       "      <th>gdp_per_capita</th>\n",
       "      <th>hospital_beds_per_thousand</th>\n",
       "    </tr>\n",
       "  </thead>\n",
       "  <tbody>\n",
       "    <tr>\n",
       "      <th>23033</th>\n",
       "      <td>International</td>\n",
       "      <td>2020-01-15</td>\n",
       "      <td>0</td>\n",
       "      <td>0</td>\n",
       "      <td>NaN</td>\n",
       "      <td>NaN</td>\n",
       "      <td>NaN</td>\n",
       "      <td>NaN</td>\n",
       "    </tr>\n",
       "    <tr>\n",
       "      <th>23062</th>\n",
       "      <td>International</td>\n",
       "      <td>2020-02-13</td>\n",
       "      <td>0</td>\n",
       "      <td>0</td>\n",
       "      <td>NaN</td>\n",
       "      <td>NaN</td>\n",
       "      <td>NaN</td>\n",
       "      <td>NaN</td>\n",
       "    </tr>\n",
       "    <tr>\n",
       "      <th>23042</th>\n",
       "      <td>International</td>\n",
       "      <td>2020-01-24</td>\n",
       "      <td>0</td>\n",
       "      <td>0</td>\n",
       "      <td>NaN</td>\n",
       "      <td>NaN</td>\n",
       "      <td>NaN</td>\n",
       "      <td>NaN</td>\n",
       "    </tr>\n",
       "    <tr>\n",
       "      <th>23051</th>\n",
       "      <td>International</td>\n",
       "      <td>2020-02-02</td>\n",
       "      <td>0</td>\n",
       "      <td>0</td>\n",
       "      <td>NaN</td>\n",
       "      <td>NaN</td>\n",
       "      <td>NaN</td>\n",
       "      <td>NaN</td>\n",
       "    </tr>\n",
       "    <tr>\n",
       "      <th>23046</th>\n",
       "      <td>International</td>\n",
       "      <td>2020-01-28</td>\n",
       "      <td>0</td>\n",
       "      <td>0</td>\n",
       "      <td>NaN</td>\n",
       "      <td>NaN</td>\n",
       "      <td>NaN</td>\n",
       "      <td>NaN</td>\n",
       "    </tr>\n",
       "    <tr>\n",
       "      <th>23070</th>\n",
       "      <td>International</td>\n",
       "      <td>2020-02-21</td>\n",
       "      <td>13</td>\n",
       "      <td>0</td>\n",
       "      <td>NaN</td>\n",
       "      <td>NaN</td>\n",
       "      <td>NaN</td>\n",
       "      <td>NaN</td>\n",
       "    </tr>\n",
       "    <tr>\n",
       "      <th>23067</th>\n",
       "      <td>International</td>\n",
       "      <td>2020-02-18</td>\n",
       "      <td>99</td>\n",
       "      <td>0</td>\n",
       "      <td>NaN</td>\n",
       "      <td>NaN</td>\n",
       "      <td>NaN</td>\n",
       "      <td>NaN</td>\n",
       "    </tr>\n",
       "    <tr>\n",
       "      <th>23040</th>\n",
       "      <td>International</td>\n",
       "      <td>2020-01-22</td>\n",
       "      <td>0</td>\n",
       "      <td>0</td>\n",
       "      <td>NaN</td>\n",
       "      <td>NaN</td>\n",
       "      <td>NaN</td>\n",
       "      <td>NaN</td>\n",
       "    </tr>\n",
       "    <tr>\n",
       "      <th>23050</th>\n",
       "      <td>International</td>\n",
       "      <td>2020-02-01</td>\n",
       "      <td>0</td>\n",
       "      <td>0</td>\n",
       "      <td>NaN</td>\n",
       "      <td>NaN</td>\n",
       "      <td>NaN</td>\n",
       "      <td>NaN</td>\n",
       "    </tr>\n",
       "    <tr>\n",
       "      <th>23039</th>\n",
       "      <td>International</td>\n",
       "      <td>2020-01-21</td>\n",
       "      <td>0</td>\n",
       "      <td>0</td>\n",
       "      <td>NaN</td>\n",
       "      <td>NaN</td>\n",
       "      <td>NaN</td>\n",
       "      <td>NaN</td>\n",
       "    </tr>\n",
       "  </tbody>\n",
       "</table>\n",
       "</div>"
      ],
      "text/plain": [
       "            location        date  new_cases  new_deaths  population  \\\n",
       "23033  International  2020-01-15          0           0         NaN   \n",
       "23062  International  2020-02-13          0           0         NaN   \n",
       "23042  International  2020-01-24          0           0         NaN   \n",
       "23051  International  2020-02-02          0           0         NaN   \n",
       "23046  International  2020-01-28          0           0         NaN   \n",
       "23070  International  2020-02-21         13           0         NaN   \n",
       "23067  International  2020-02-18         99           0         NaN   \n",
       "23040  International  2020-01-22          0           0         NaN   \n",
       "23050  International  2020-02-01          0           0         NaN   \n",
       "23039  International  2020-01-21          0           0         NaN   \n",
       "\n",
       "       aged_65_older_percent  gdp_per_capita  hospital_beds_per_thousand  \n",
       "23033                    NaN             NaN                         NaN  \n",
       "23062                    NaN             NaN                         NaN  \n",
       "23042                    NaN             NaN                         NaN  \n",
       "23051                    NaN             NaN                         NaN  \n",
       "23046                    NaN             NaN                         NaN  \n",
       "23070                    NaN             NaN                         NaN  \n",
       "23067                    NaN             NaN                         NaN  \n",
       "23040                    NaN             NaN                         NaN  \n",
       "23050                    NaN             NaN                         NaN  \n",
       "23039                    NaN             NaN                         NaN  "
      ]
     },
     "execution_count": 133,
     "metadata": {},
     "output_type": "execute_result"
    }
   ],
   "source": [
    "countries_no_population_figures.sample(10)"
   ]
  },
  {
   "cell_type": "code",
   "execution_count": 134,
   "id": "003400ab",
   "metadata": {},
   "outputs": [
    {
     "data": {
      "text/plain": [
       "location\n",
       "Afghanistan       1\n",
       "Albania           1\n",
       "Algeria           1\n",
       "Andorra           1\n",
       "Angola            1\n",
       "                 ..\n",
       "Western Sahara    1\n",
       "World             1\n",
       "Yemen             1\n",
       "Zambia            1\n",
       "Zimbabwe          1\n",
       "Name: location, Length: 212, dtype: int64"
      ]
     },
     "execution_count": 134,
     "metadata": {},
     "output_type": "execute_result"
    }
   ],
   "source": [
    "covid_data.groupby('location')['location'].nunique()"
   ]
  },
  {
   "cell_type": "code",
   "execution_count": 135,
   "id": "dc13c832",
   "metadata": {},
   "outputs": [
    {
     "data": {
      "text/plain": [
       "64"
      ]
     },
     "execution_count": 135,
     "metadata": {},
     "output_type": "execute_result"
    }
   ],
   "source": [
    "covid_data.location.value_counts()['International']"
   ]
  },
  {
   "cell_type": "code",
   "execution_count": 136,
   "id": "7fab406f",
   "metadata": {},
   "outputs": [
    {
     "data": {
      "text/plain": [
       "Germany           163\n",
       "Japan             163\n",
       "Czech Republic    163\n",
       "United States     163\n",
       "Brazil            163\n",
       "                 ... \n",
       "Yemen              62\n",
       "Western Sahara     46\n",
       "Tajikistan         41\n",
       "Comoros            40\n",
       "Lesotho            27\n",
       "Name: location, Length: 212, dtype: int64"
      ]
     },
     "execution_count": 136,
     "metadata": {},
     "output_type": "execute_result"
    }
   ],
   "source": [
    "covid_data.location.value_counts()\n"
   ]
  },
  {
   "cell_type": "code",
   "execution_count": null,
   "id": "75b55e92",
   "metadata": {},
   "outputs": [],
   "source": []
  },
  {
   "cell_type": "code",
   "execution_count": null,
   "id": "6b167cb6",
   "metadata": {},
   "outputs": [],
   "source": []
  },
  {
   "cell_type": "code",
   "execution_count": null,
   "id": "8a664d8a",
   "metadata": {},
   "outputs": [],
   "source": []
  },
  {
   "cell_type": "markdown",
   "id": "3d175e1e",
   "metadata": {},
   "source": [
    "## Cleaning Data"
   ]
  },
  {
   "cell_type": "code",
   "execution_count": 137,
   "id": "2b6fdff4",
   "metadata": {},
   "outputs": [],
   "source": [
    "clean_df = covid_data.copy()"
   ]
  },
  {
   "cell_type": "code",
   "execution_count": 138,
   "id": "ea80b477",
   "metadata": {},
   "outputs": [
    {
     "name": "stdout",
     "output_type": "stream",
     "text": [
      "<class 'pandas.core.frame.DataFrame'>\n",
      "RangeIndex: 23082 entries, 0 to 23081\n",
      "Data columns (total 8 columns):\n",
      " #   Column                      Non-Null Count  Dtype  \n",
      "---  ------                      --------------  -----  \n",
      " 0   location                    23082 non-null  object \n",
      " 1   date                        23082 non-null  object \n",
      " 2   new_cases                   23082 non-null  int64  \n",
      " 3   new_deaths                  23082 non-null  int64  \n",
      " 4   population                  23018 non-null  float64\n",
      " 5   aged_65_older_percent       20643 non-null  float64\n",
      " 6   gdp_per_capita              20711 non-null  float64\n",
      " 7   hospital_beds_per_thousand  19144 non-null  float64\n",
      "dtypes: float64(4), int64(2), object(2)\n",
      "memory usage: 1.4+ MB\n"
     ]
    }
   ],
   "source": [
    "#confirm that the df has been copied \n",
    "clean_df.info()"
   ]
  },
  {
   "cell_type": "code",
   "execution_count": 139,
   "id": "3e16c05f",
   "metadata": {},
   "outputs": [
    {
     "data": {
      "text/plain": [
       "<bound method Series.info of 0        2019-12-31\n",
       "1        2020-01-01\n",
       "2        2020-01-02\n",
       "3        2020-01-03\n",
       "4        2020-01-04\n",
       "            ...    \n",
       "23077    2020-02-28\n",
       "23078    2020-02-29\n",
       "23079    2020-03-01\n",
       "23080    2020-03-02\n",
       "23081    2020-03-10\n",
       "Name: date, Length: 23082, dtype: object>"
      ]
     },
     "execution_count": 139,
     "metadata": {},
     "output_type": "execute_result"
    }
   ],
   "source": [
    "# Convert date to datetime object\n",
    "clean_df.date.info"
   ]
  },
  {
   "cell_type": "code",
   "execution_count": 140,
   "id": "6e7bdf51",
   "metadata": {},
   "outputs": [
    {
     "data": {
      "text/plain": [
       "False"
      ]
     },
     "execution_count": 140,
     "metadata": {},
     "output_type": "execute_result"
    }
   ],
   "source": [
    "#Check for null values\n",
    "clean_df.date.isnull().values.any()"
   ]
  },
  {
   "cell_type": "code",
   "execution_count": 141,
   "id": "f3b2a13a",
   "metadata": {},
   "outputs": [],
   "source": [
    "clean_df.date = pd.to_datetime(clean_covid_data.date)"
   ]
  },
  {
   "cell_type": "code",
   "execution_count": 142,
   "id": "aad63b97",
   "metadata": {},
   "outputs": [
    {
     "data": {
      "text/plain": [
       "<bound method Series.info of 0       2019-12-31\n",
       "1       2020-01-01\n",
       "2       2020-01-02\n",
       "3       2020-01-03\n",
       "4       2020-01-04\n",
       "           ...    \n",
       "23077   2020-02-28\n",
       "23078   2020-02-29\n",
       "23079   2020-03-01\n",
       "23080   2020-03-02\n",
       "23081   2020-03-10\n",
       "Name: date, Length: 23082, dtype: datetime64[ns]>"
      ]
     },
     "execution_count": 142,
     "metadata": {},
     "output_type": "execute_result"
    }
   ],
   "source": [
    "#Conversion\n",
    "clean_df.date.info"
   ]
  },
  {
   "cell_type": "code",
   "execution_count": 143,
   "id": "9c36adfa",
   "metadata": {},
   "outputs": [],
   "source": [
    "assert clean_df['date'].dtype == 'datetime64[ns]'"
   ]
  },
  {
   "cell_type": "code",
   "execution_count": 144,
   "id": "e1f3d027",
   "metadata": {},
   "outputs": [
    {
     "data": {
      "text/plain": [
       "<bound method Series.info of 0       2019-12-31\n",
       "1       2020-01-01\n",
       "2       2020-01-02\n",
       "3       2020-01-03\n",
       "4       2020-01-04\n",
       "           ...    \n",
       "23077   2020-02-28\n",
       "23078   2020-02-29\n",
       "23079   2020-03-01\n",
       "23080   2020-03-02\n",
       "23081   2020-03-10\n",
       "Name: date, Length: 23082, dtype: datetime64[ns]>"
      ]
     },
     "execution_count": 144,
     "metadata": {},
     "output_type": "execute_result"
    }
   ],
   "source": [
    "clean_df['date'].info"
   ]
  },
  {
   "cell_type": "code",
   "execution_count": 145,
   "id": "6377b405",
   "metadata": {},
   "outputs": [
    {
     "data": {
      "text/html": [
       "<div>\n",
       "<style scoped>\n",
       "    .dataframe tbody tr th:only-of-type {\n",
       "        vertical-align: middle;\n",
       "    }\n",
       "\n",
       "    .dataframe tbody tr th {\n",
       "        vertical-align: top;\n",
       "    }\n",
       "\n",
       "    .dataframe thead th {\n",
       "        text-align: right;\n",
       "    }\n",
       "</style>\n",
       "<table border=\"1\" class=\"dataframe\">\n",
       "  <thead>\n",
       "    <tr style=\"text-align: right;\">\n",
       "      <th></th>\n",
       "      <th>location</th>\n",
       "      <th>date</th>\n",
       "      <th>new_cases</th>\n",
       "      <th>new_deaths</th>\n",
       "      <th>population</th>\n",
       "      <th>aged_65_older_percent</th>\n",
       "      <th>gdp_per_capita</th>\n",
       "      <th>hospital_beds_per_thousand</th>\n",
       "    </tr>\n",
       "  </thead>\n",
       "  <tbody>\n",
       "    <tr>\n",
       "      <th>1812</th>\n",
       "      <td>Bangladesh</td>\n",
       "      <td>2020-03-23</td>\n",
       "      <td>3</td>\n",
       "      <td>1</td>\n",
       "      <td>164689383.0</td>\n",
       "      <td>5.098</td>\n",
       "      <td>3523.984</td>\n",
       "      <td>0.80</td>\n",
       "    </tr>\n",
       "    <tr>\n",
       "      <th>18814</th>\n",
       "      <td>Slovakia</td>\n",
       "      <td>2020-05-05</td>\n",
       "      <td>5</td>\n",
       "      <td>1</td>\n",
       "      <td>5459643.0</td>\n",
       "      <td>15.070</td>\n",
       "      <td>30155.152</td>\n",
       "      <td>5.82</td>\n",
       "    </tr>\n",
       "    <tr>\n",
       "      <th>11555</th>\n",
       "      <td>Kuwait</td>\n",
       "      <td>2020-01-04</td>\n",
       "      <td>0</td>\n",
       "      <td>0</td>\n",
       "      <td>4270563.0</td>\n",
       "      <td>2.345</td>\n",
       "      <td>65530.537</td>\n",
       "      <td>2.00</td>\n",
       "    </tr>\n",
       "    <tr>\n",
       "      <th>4024</th>\n",
       "      <td>Cape Verde</td>\n",
       "      <td>2020-05-30</td>\n",
       "      <td>15</td>\n",
       "      <td>0</td>\n",
       "      <td>555988.0</td>\n",
       "      <td>4.460</td>\n",
       "      <td>6222.554</td>\n",
       "      <td>2.10</td>\n",
       "    </tr>\n",
       "    <tr>\n",
       "      <th>14786</th>\n",
       "      <td>Nepal</td>\n",
       "      <td>2020-04-20</td>\n",
       "      <td>0</td>\n",
       "      <td>0</td>\n",
       "      <td>29136808.0</td>\n",
       "      <td>5.809</td>\n",
       "      <td>2442.804</td>\n",
       "      <td>0.30</td>\n",
       "    </tr>\n",
       "    <tr>\n",
       "      <th>19634</th>\n",
       "      <td>Sri Lanka</td>\n",
       "      <td>2020-04-02</td>\n",
       "      <td>21</td>\n",
       "      <td>0</td>\n",
       "      <td>21413250.0</td>\n",
       "      <td>10.069</td>\n",
       "      <td>11669.077</td>\n",
       "      <td>3.60</td>\n",
       "    </tr>\n",
       "    <tr>\n",
       "      <th>6824</th>\n",
       "      <td>Estonia</td>\n",
       "      <td>2020-05-19</td>\n",
       "      <td>10</td>\n",
       "      <td>1</td>\n",
       "      <td>1326539.0</td>\n",
       "      <td>19.452</td>\n",
       "      <td>29481.252</td>\n",
       "      <td>4.69</td>\n",
       "    </tr>\n",
       "    <tr>\n",
       "      <th>15651</th>\n",
       "      <td>Norway</td>\n",
       "      <td>2020-01-17</td>\n",
       "      <td>0</td>\n",
       "      <td>0</td>\n",
       "      <td>5421242.0</td>\n",
       "      <td>16.821</td>\n",
       "      <td>64800.057</td>\n",
       "      <td>3.60</td>\n",
       "    </tr>\n",
       "    <tr>\n",
       "      <th>890</th>\n",
       "      <td>Armenia</td>\n",
       "      <td>2020-02-29</td>\n",
       "      <td>0</td>\n",
       "      <td>0</td>\n",
       "      <td>2963234.0</td>\n",
       "      <td>11.232</td>\n",
       "      <td>8787.580</td>\n",
       "      <td>4.20</td>\n",
       "    </tr>\n",
       "    <tr>\n",
       "      <th>19014</th>\n",
       "      <td>Somalia</td>\n",
       "      <td>2020-05-22</td>\n",
       "      <td>21</td>\n",
       "      <td>0</td>\n",
       "      <td>15893219.0</td>\n",
       "      <td>2.731</td>\n",
       "      <td>NaN</td>\n",
       "      <td>0.90</td>\n",
       "    </tr>\n",
       "  </tbody>\n",
       "</table>\n",
       "</div>"
      ],
      "text/plain": [
       "         location       date  new_cases  new_deaths   population  \\\n",
       "1812   Bangladesh 2020-03-23          3           1  164689383.0   \n",
       "18814    Slovakia 2020-05-05          5           1    5459643.0   \n",
       "11555      Kuwait 2020-01-04          0           0    4270563.0   \n",
       "4024   Cape Verde 2020-05-30         15           0     555988.0   \n",
       "14786       Nepal 2020-04-20          0           0   29136808.0   \n",
       "19634   Sri Lanka 2020-04-02         21           0   21413250.0   \n",
       "6824      Estonia 2020-05-19         10           1    1326539.0   \n",
       "15651      Norway 2020-01-17          0           0    5421242.0   \n",
       "890       Armenia 2020-02-29          0           0    2963234.0   \n",
       "19014     Somalia 2020-05-22         21           0   15893219.0   \n",
       "\n",
       "       aged_65_older_percent  gdp_per_capita  hospital_beds_per_thousand  \n",
       "1812                   5.098        3523.984                        0.80  \n",
       "18814                 15.070       30155.152                        5.82  \n",
       "11555                  2.345       65530.537                        2.00  \n",
       "4024                   4.460        6222.554                        2.10  \n",
       "14786                  5.809        2442.804                        0.30  \n",
       "19634                 10.069       11669.077                        3.60  \n",
       "6824                  19.452       29481.252                        4.69  \n",
       "15651                 16.821       64800.057                        3.60  \n",
       "890                   11.232        8787.580                        4.20  \n",
       "19014                  2.731             NaN                        0.90  "
      ]
     },
     "execution_count": 145,
     "metadata": {},
     "output_type": "execute_result"
    }
   ],
   "source": [
    "clean_df.sample(10)"
   ]
  },
  {
   "cell_type": "markdown",
   "id": "da365c92",
   "metadata": {},
   "source": [
    "## Univariate Exploration"
   ]
  },
  {
   "cell_type": "code",
   "execution_count": 146,
   "id": "45018d36",
   "metadata": {},
   "outputs": [],
   "source": [
    "#The total Number of deaths over the years\n",
    "total_overall_deaths = clean_df['new_deaths'].sum()"
   ]
  },
  {
   "cell_type": "code",
   "execution_count": 147,
   "id": "90aa36f7",
   "metadata": {},
   "outputs": [
    {
     "name": "stdout",
     "output_type": "stream",
     "text": [
      "822390\n"
     ]
    }
   ],
   "source": [
    "print(total_overall_deaths)"
   ]
  },
  {
   "cell_type": "code",
   "execution_count": 148,
   "id": "c6f2ea8e",
   "metadata": {},
   "outputs": [
    {
     "data": {
      "text/plain": [
       "Timestamp('2020-06-10 00:00:00')"
      ]
     },
     "execution_count": 148,
     "metadata": {},
     "output_type": "execute_result"
    }
   ],
   "source": [
    "#Period under review earliest date\n",
    "clean_df.date.max()"
   ]
  },
  {
   "cell_type": "code",
   "execution_count": 149,
   "id": "aed877f3",
   "metadata": {},
   "outputs": [
    {
     "data": {
      "text/plain": [
       "Timestamp('2019-12-31 00:00:00')"
      ]
     },
     "execution_count": 149,
     "metadata": {},
     "output_type": "execute_result"
    }
   ],
   "source": [
    "#Period latest date\n",
    "clean_df.date.min()"
   ]
  },
  {
   "cell_type": "code",
   "execution_count": 150,
   "id": "865a15a5",
   "metadata": {},
   "outputs": [],
   "source": [
    "#add year column\n",
    "clean_df['year'] = clean_df['date'].dt.year"
   ]
  },
  {
   "cell_type": "code",
   "execution_count": 151,
   "id": "0266d151",
   "metadata": {},
   "outputs": [],
   "source": [
    "#add month column\n",
    "clean_df['month'] = clean_df['date'].dt.strftime('%b')"
   ]
  },
  {
   "cell_type": "code",
   "execution_count": 152,
   "id": "de25db0e",
   "metadata": {},
   "outputs": [
    {
     "data": {
      "text/html": [
       "<div>\n",
       "<style scoped>\n",
       "    .dataframe tbody tr th:only-of-type {\n",
       "        vertical-align: middle;\n",
       "    }\n",
       "\n",
       "    .dataframe tbody tr th {\n",
       "        vertical-align: top;\n",
       "    }\n",
       "\n",
       "    .dataframe thead th {\n",
       "        text-align: right;\n",
       "    }\n",
       "</style>\n",
       "<table border=\"1\" class=\"dataframe\">\n",
       "  <thead>\n",
       "    <tr style=\"text-align: right;\">\n",
       "      <th></th>\n",
       "      <th>location</th>\n",
       "      <th>date</th>\n",
       "      <th>new_cases</th>\n",
       "      <th>new_deaths</th>\n",
       "      <th>population</th>\n",
       "      <th>aged_65_older_percent</th>\n",
       "      <th>gdp_per_capita</th>\n",
       "      <th>hospital_beds_per_thousand</th>\n",
       "      <th>year</th>\n",
       "      <th>month</th>\n",
       "    </tr>\n",
       "  </thead>\n",
       "  <tbody>\n",
       "    <tr>\n",
       "      <th>0</th>\n",
       "      <td>Afghanistan</td>\n",
       "      <td>2019-12-31</td>\n",
       "      <td>0</td>\n",
       "      <td>0</td>\n",
       "      <td>38928341.0</td>\n",
       "      <td>2.581</td>\n",
       "      <td>1803.987</td>\n",
       "      <td>0.5</td>\n",
       "      <td>2019</td>\n",
       "      <td>Dec</td>\n",
       "    </tr>\n",
       "    <tr>\n",
       "      <th>1</th>\n",
       "      <td>Afghanistan</td>\n",
       "      <td>2020-01-01</td>\n",
       "      <td>0</td>\n",
       "      <td>0</td>\n",
       "      <td>38928341.0</td>\n",
       "      <td>2.581</td>\n",
       "      <td>1803.987</td>\n",
       "      <td>0.5</td>\n",
       "      <td>2020</td>\n",
       "      <td>Jan</td>\n",
       "    </tr>\n",
       "    <tr>\n",
       "      <th>2</th>\n",
       "      <td>Afghanistan</td>\n",
       "      <td>2020-01-02</td>\n",
       "      <td>0</td>\n",
       "      <td>0</td>\n",
       "      <td>38928341.0</td>\n",
       "      <td>2.581</td>\n",
       "      <td>1803.987</td>\n",
       "      <td>0.5</td>\n",
       "      <td>2020</td>\n",
       "      <td>Jan</td>\n",
       "    </tr>\n",
       "    <tr>\n",
       "      <th>3</th>\n",
       "      <td>Afghanistan</td>\n",
       "      <td>2020-01-03</td>\n",
       "      <td>0</td>\n",
       "      <td>0</td>\n",
       "      <td>38928341.0</td>\n",
       "      <td>2.581</td>\n",
       "      <td>1803.987</td>\n",
       "      <td>0.5</td>\n",
       "      <td>2020</td>\n",
       "      <td>Jan</td>\n",
       "    </tr>\n",
       "    <tr>\n",
       "      <th>4</th>\n",
       "      <td>Afghanistan</td>\n",
       "      <td>2020-01-04</td>\n",
       "      <td>0</td>\n",
       "      <td>0</td>\n",
       "      <td>38928341.0</td>\n",
       "      <td>2.581</td>\n",
       "      <td>1803.987</td>\n",
       "      <td>0.5</td>\n",
       "      <td>2020</td>\n",
       "      <td>Jan</td>\n",
       "    </tr>\n",
       "  </tbody>\n",
       "</table>\n",
       "</div>"
      ],
      "text/plain": [
       "      location       date  new_cases  new_deaths  population  \\\n",
       "0  Afghanistan 2019-12-31          0           0  38928341.0   \n",
       "1  Afghanistan 2020-01-01          0           0  38928341.0   \n",
       "2  Afghanistan 2020-01-02          0           0  38928341.0   \n",
       "3  Afghanistan 2020-01-03          0           0  38928341.0   \n",
       "4  Afghanistan 2020-01-04          0           0  38928341.0   \n",
       "\n",
       "   aged_65_older_percent  gdp_per_capita  hospital_beds_per_thousand  year  \\\n",
       "0                  2.581        1803.987                         0.5  2019   \n",
       "1                  2.581        1803.987                         0.5  2020   \n",
       "2                  2.581        1803.987                         0.5  2020   \n",
       "3                  2.581        1803.987                         0.5  2020   \n",
       "4                  2.581        1803.987                         0.5  2020   \n",
       "\n",
       "  month  \n",
       "0   Dec  \n",
       "1   Jan  \n",
       "2   Jan  \n",
       "3   Jan  \n",
       "4   Jan  "
      ]
     },
     "execution_count": 152,
     "metadata": {},
     "output_type": "execute_result"
    }
   ],
   "source": [
    "clean_df.head()"
   ]
  },
  {
   "cell_type": "code",
   "execution_count": 162,
   "id": "7f77181b",
   "metadata": {},
   "outputs": [],
   "source": [
    "#Total number of deaths per country \n",
    "deaths_per_country = clean_df['new_deaths'].groupby(clean_df['location']).sum()"
   ]
  },
  {
   "cell_type": "code",
   "execution_count": 168,
   "id": "8427e2c8",
   "metadata": {},
   "outputs": [
    {
     "data": {
      "text/plain": [
       "location\n",
       "World             411195\n",
       "United States     112006\n",
       "United Kingdom     40883\n",
       "Brazil             38406\n",
       "Italy              34043\n",
       "France             29296\n",
       "Spain              27136\n",
       "Mexico             14649\n",
       "Belgium             9619\n",
       "Germany             8729\n",
       "Iran                8425\n",
       "Canada              7897\n",
       "India               7745\n",
       "Russia              6141\n",
       "Netherlands         6031\n",
       "Peru                5738\n",
       "Turkey              4729\n",
       "Sweden              4717\n",
       "China               4638\n",
       "Ecuador             3690\n",
       "Chile               2283\n",
       "Pakistan            2255\n",
       "Indonesia           1923\n",
       "Ireland             1691\n",
       "Switzerland         1662\n",
       "Portugal            1492\n",
       "Colombia            1372\n",
       "Romania             1345\n",
       "Egypt               1306\n",
       "Poland              1183\n",
       "South Africa        1162\n",
       "Philippines         1017\n",
       "Bangladesh           975\n",
       "Japan                919\n",
       "Ukraine              810\n",
       "Saudi Arabia         783\n",
       "Algeria              724\n",
       "Argentina            717\n",
       "Austria              672\n",
       "Denmark              593\n",
       "Name: new_deaths, dtype: int64"
      ]
     },
     "execution_count": 168,
     "metadata": {},
     "output_type": "execute_result"
    }
   ],
   "source": [
    "#Top 40 Overall deaths per country\n",
    "deaths_per_country.sort_values(ascending=False).head(40)\n",
    "\n"
   ]
  },
  {
   "cell_type": "code",
   "execution_count": 186,
   "id": "0bd0eb38",
   "metadata": {},
   "outputs": [],
   "source": [
    "\n",
    "\n",
    "#Function to assist with plotting loan_clean barcharts \n",
    "\n",
    "def horizontal_bar(colname):\n",
    "    output_bar = sb.countplot(x=clean_df[colname], color=sb.color_palette()[4])\n",
    "    for bar in output_bar.containers:\n",
    "        output_bar.bar_label(bar)\n",
    "    return output_bar\n",
    "    \n",
    "\n"
   ]
  },
  {
   "cell_type": "code",
   "execution_count": 214,
   "id": "5519dfa0",
   "metadata": {},
   "outputs": [],
   "source": [
    "\n",
    "sums = clean_df.groupby('location').new_deaths.sum().sort_values(ascending=False)\n",
    "top20 = sums.head(15)\n",
    "\n"
   ]
  },
  {
   "cell_type": "code",
   "execution_count": 216,
   "id": "78d0aa96",
   "metadata": {},
   "outputs": [
    {
     "name": "stdout",
     "output_type": "stream",
     "text": [
      "<class 'pandas.core.series.Series'>\n"
     ]
    }
   ],
   "source": [
    "print(type(top20))"
   ]
  },
  {
   "cell_type": "code",
   "execution_count": 217,
   "id": "2a5c04bf",
   "metadata": {},
   "outputs": [
    {
     "name": "stdout",
     "output_type": "stream",
     "text": [
      "location\n",
      "World             411195\n",
      "United States     112006\n",
      "United Kingdom     40883\n",
      "Brazil             38406\n",
      "Italy              34043\n",
      "France             29296\n",
      "Spain              27136\n",
      "Mexico             14649\n",
      "Belgium             9619\n",
      "Germany             8729\n",
      "Iran                8425\n",
      "Canada              7897\n",
      "India               7745\n",
      "Russia              6141\n",
      "Netherlands         6031\n",
      "Name: new_deaths, dtype: int64\n"
     ]
    }
   ],
   "source": [
    "print(top20)"
   ]
  },
  {
   "cell_type": "code",
   "execution_count": 199,
   "id": "1d486e1a",
   "metadata": {},
   "outputs": [
    {
     "data": {
      "text/plain": [
       "<AxesSubplot:xlabel='location'>"
      ]
     },
     "execution_count": 199,
     "metadata": {},
     "output_type": "execute_result"
    },
    {
     "data": {
      "image/png": "[encoded data removed]",
      "text/plain": [
       "<Figure size 432x288 with 1 Axes>"
      ]
     },
     "metadata": {
      "needs_background": "light"
     },
     "output_type": "display_data"
    }
   ],
   "source": [
    "top20.plot(kind='bar')"
   ]
  },
  {
   "cell_type": "code",
   "execution_count": 218,
   "id": "77b628df",
   "metadata": {},
   "outputs": [],
   "source": [
    "delete_index = 0\n",
    "new_top20 = top20.drop('World')"
   ]
  },
  {
   "cell_type": "code",
   "execution_count": 219,
   "id": "9fb70935",
   "metadata": {},
   "outputs": [
    {
     "data": {
      "text/plain": [
       "<AxesSubplot:xlabel='location'>"
      ]
     },
     "execution_count": 219,
     "metadata": {},
     "output_type": "execute_result"
    },
    {
     "data": {
      "image/png": "[encoded data removed]",
      "text/plain": [
       "<Figure size 432x288 with 1 Axes>"
      ]
     },
     "metadata": {
      "needs_background": "light"
     },
     "output_type": "display_data"
    }
   ],
   "source": [
    "new_top20.plot(kind='bar')"
   ]
  },
  {
   "cell_type": "code",
   "execution_count": 221,
   "id": "e4e4f3dc",
   "metadata": {},
   "outputs": [],
   "source": [
    "least_deaths = clean_df.groupby('location').new_deaths.sum().sort_values(ascending=True)\n",
    "last20 = least_deaths.head(15)"
   ]
  },
  {
   "cell_type": "code",
   "execution_count": 223,
   "id": "70eeae33",
   "metadata": {},
   "outputs": [
    {
     "data": {
      "text/plain": [
       "location\n",
       "Bonaire Sint Eustatius and Saba     0\n",
       "Timor                               0\n",
       "French Polynesia                    0\n",
       "Namibia                             0\n",
       "Fiji                                0\n",
       "Cambodia                            0\n",
       "Falkland Islands                    0\n",
       "Bhutan                              0\n",
       "Faeroe Islands                      0\n",
       "Eritrea                             0\n",
       "Papua New Guinea                    0\n",
       "Dominica                            0\n",
       "Saint Kitts and Nevis               0\n",
       "Saint Lucia                         0\n",
       "Seychelles                          0\n",
       "New Caledonia                       0\n",
       "Gibraltar                           0\n",
       "Saint Vincent and the Grenadines    0\n",
       "Vietnam                             0\n",
       "Anguilla                            0\n",
       "Grenada                             0\n",
       "Lesotho                             0\n",
       "Mongolia                            0\n",
       "Greenland                           0\n",
       "Uganda                              0\n",
       "Vatican                             0\n",
       "Laos                                0\n",
       "Hong Kong                           0\n",
       "Montserrat                          1\n",
       "Cayman Islands                      1\n",
       "Liechtenstein                       1\n",
       "Burundi                             1\n",
       "British Virgin Islands              1\n",
       "Botswana                            1\n",
       "Curacao                             1\n",
       "Turks and Caicos Islands            1\n",
       "Gambia                              1\n",
       "Western Sahara                      1\n",
       "Comoros                             2\n",
       "Northern Mariana Islands            2\n",
       "Rwanda                              2\n",
       "Suriname                            2\n",
       "Brunei                              2\n",
       "Mozambique                          2\n",
       "Belize                              2\n",
       "Aruba                               3\n",
       "Swaziland                           3\n",
       "Antigua and Barbuda                 3\n",
       "Malawi                              4\n",
       "Zimbabwe                            4\n",
       "Name: new_deaths, dtype: int64"
      ]
     },
     "execution_count": 223,
     "metadata": {},
     "output_type": "execute_result"
    }
   ],
   "source": [
    "least_deaths.head(50)"
   ]
  }
 ],
 "metadata": {
  "kernelspec": {
   "display_name": "Python 3",
   "language": "python",
   "name": "python3"
  },
  "language_info": {
   "codemirror_mode": {
    "name": "ipython",
    "version": 3
   },
   "file_extension": ".py",
   "mimetype": "text/x-python",
   "name": "python",
   "nbconvert_exporter": "python",
   "pygments_lexer": "ipython3",
   "version": "3.9.12"
  }
 },
 "nbformat": 4,
 "nbformat_minor": 5
}
