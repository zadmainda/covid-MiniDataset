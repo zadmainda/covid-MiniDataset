{
 "cells": [
  {
   "cell_type": "code",
   "execution_count": 288,
   "id": "bd2e3984",
   "metadata": {},
   "outputs": [],
   "source": [
    "import numpy as np\n",
    "import pandas as pd\n",
    "import matplotlib.pyplot as plt\n",
    "import seaborn as sb\n",
    "import datetime\n",
    "    \n",
    "    \n",
    "%matplotlib inline"
   ]
  },
  {
   "cell_type": "code",
   "execution_count": 289,
   "id": "f87beadd",
   "metadata": {},
   "outputs": [],
   "source": [
    "covid_data = pd.read_csv('covid_data.csv')"
   ]
  },
  {
   "cell_type": "code",
   "execution_count": 290,
   "id": "30c2b813",
   "metadata": {},
   "outputs": [
    {
     "data": {
      "text/html": [
       "<div>\n",
       "<style scoped>\n",
       "    .dataframe tbody tr th:only-of-type {\n",
       "        vertical-align: middle;\n",
       "    }\n",
       "\n",
       "    .dataframe tbody tr th {\n",
       "        vertical-align: top;\n",
       "    }\n",
       "\n",
       "    .dataframe thead th {\n",
       "        text-align: right;\n",
       "    }\n",
       "</style>\n",
       "<table border=\"1\" class=\"dataframe\">\n",
       "  <thead>\n",
       "    <tr style=\"text-align: right;\">\n",
       "      <th></th>\n",
       "      <th>location</th>\n",
       "      <th>date</th>\n",
       "      <th>new_cases</th>\n",
       "      <th>new_deaths</th>\n",
       "      <th>population</th>\n",
       "      <th>aged_65_older_percent</th>\n",
       "      <th>gdp_per_capita</th>\n",
       "      <th>hospital_beds_per_thousand</th>\n",
       "    </tr>\n",
       "  </thead>\n",
       "  <tbody>\n",
       "    <tr>\n",
       "      <th>0</th>\n",
       "      <td>Afghanistan</td>\n",
       "      <td>2019-12-31</td>\n",
       "      <td>0</td>\n",
       "      <td>0</td>\n",
       "      <td>38928341.0</td>\n",
       "      <td>2.581</td>\n",
       "      <td>1803.987</td>\n",
       "      <td>0.5</td>\n",
       "    </tr>\n",
       "    <tr>\n",
       "      <th>1</th>\n",
       "      <td>Afghanistan</td>\n",
       "      <td>2020-01-01</td>\n",
       "      <td>0</td>\n",
       "      <td>0</td>\n",
       "      <td>38928341.0</td>\n",
       "      <td>2.581</td>\n",
       "      <td>1803.987</td>\n",
       "      <td>0.5</td>\n",
       "    </tr>\n",
       "    <tr>\n",
       "      <th>2</th>\n",
       "      <td>Afghanistan</td>\n",
       "      <td>2020-01-02</td>\n",
       "      <td>0</td>\n",
       "      <td>0</td>\n",
       "      <td>38928341.0</td>\n",
       "      <td>2.581</td>\n",
       "      <td>1803.987</td>\n",
       "      <td>0.5</td>\n",
       "    </tr>\n",
       "    <tr>\n",
       "      <th>3</th>\n",
       "      <td>Afghanistan</td>\n",
       "      <td>2020-01-03</td>\n",
       "      <td>0</td>\n",
       "      <td>0</td>\n",
       "      <td>38928341.0</td>\n",
       "      <td>2.581</td>\n",
       "      <td>1803.987</td>\n",
       "      <td>0.5</td>\n",
       "    </tr>\n",
       "    <tr>\n",
       "      <th>4</th>\n",
       "      <td>Afghanistan</td>\n",
       "      <td>2020-01-04</td>\n",
       "      <td>0</td>\n",
       "      <td>0</td>\n",
       "      <td>38928341.0</td>\n",
       "      <td>2.581</td>\n",
       "      <td>1803.987</td>\n",
       "      <td>0.5</td>\n",
       "    </tr>\n",
       "    <tr>\n",
       "      <th>5</th>\n",
       "      <td>Afghanistan</td>\n",
       "      <td>2020-01-05</td>\n",
       "      <td>0</td>\n",
       "      <td>0</td>\n",
       "      <td>38928341.0</td>\n",
       "      <td>2.581</td>\n",
       "      <td>1803.987</td>\n",
       "      <td>0.5</td>\n",
       "    </tr>\n",
       "    <tr>\n",
       "      <th>6</th>\n",
       "      <td>Afghanistan</td>\n",
       "      <td>2020-01-06</td>\n",
       "      <td>0</td>\n",
       "      <td>0</td>\n",
       "      <td>38928341.0</td>\n",
       "      <td>2.581</td>\n",
       "      <td>1803.987</td>\n",
       "      <td>0.5</td>\n",
       "    </tr>\n",
       "    <tr>\n",
       "      <th>7</th>\n",
       "      <td>Afghanistan</td>\n",
       "      <td>2020-01-07</td>\n",
       "      <td>0</td>\n",
       "      <td>0</td>\n",
       "      <td>38928341.0</td>\n",
       "      <td>2.581</td>\n",
       "      <td>1803.987</td>\n",
       "      <td>0.5</td>\n",
       "    </tr>\n",
       "    <tr>\n",
       "      <th>8</th>\n",
       "      <td>Afghanistan</td>\n",
       "      <td>2020-01-08</td>\n",
       "      <td>0</td>\n",
       "      <td>0</td>\n",
       "      <td>38928341.0</td>\n",
       "      <td>2.581</td>\n",
       "      <td>1803.987</td>\n",
       "      <td>0.5</td>\n",
       "    </tr>\n",
       "    <tr>\n",
       "      <th>9</th>\n",
       "      <td>Afghanistan</td>\n",
       "      <td>2020-01-09</td>\n",
       "      <td>0</td>\n",
       "      <td>0</td>\n",
       "      <td>38928341.0</td>\n",
       "      <td>2.581</td>\n",
       "      <td>1803.987</td>\n",
       "      <td>0.5</td>\n",
       "    </tr>\n",
       "    <tr>\n",
       "      <th>10</th>\n",
       "      <td>Afghanistan</td>\n",
       "      <td>2020-01-10</td>\n",
       "      <td>0</td>\n",
       "      <td>0</td>\n",
       "      <td>38928341.0</td>\n",
       "      <td>2.581</td>\n",
       "      <td>1803.987</td>\n",
       "      <td>0.5</td>\n",
       "    </tr>\n",
       "    <tr>\n",
       "      <th>11</th>\n",
       "      <td>Afghanistan</td>\n",
       "      <td>2020-01-11</td>\n",
       "      <td>0</td>\n",
       "      <td>0</td>\n",
       "      <td>38928341.0</td>\n",
       "      <td>2.581</td>\n",
       "      <td>1803.987</td>\n",
       "      <td>0.5</td>\n",
       "    </tr>\n",
       "    <tr>\n",
       "      <th>12</th>\n",
       "      <td>Afghanistan</td>\n",
       "      <td>2020-01-12</td>\n",
       "      <td>0</td>\n",
       "      <td>0</td>\n",
       "      <td>38928341.0</td>\n",
       "      <td>2.581</td>\n",
       "      <td>1803.987</td>\n",
       "      <td>0.5</td>\n",
       "    </tr>\n",
       "    <tr>\n",
       "      <th>13</th>\n",
       "      <td>Afghanistan</td>\n",
       "      <td>2020-01-13</td>\n",
       "      <td>0</td>\n",
       "      <td>0</td>\n",
       "      <td>38928341.0</td>\n",
       "      <td>2.581</td>\n",
       "      <td>1803.987</td>\n",
       "      <td>0.5</td>\n",
       "    </tr>\n",
       "    <tr>\n",
       "      <th>14</th>\n",
       "      <td>Afghanistan</td>\n",
       "      <td>2020-01-14</td>\n",
       "      <td>0</td>\n",
       "      <td>0</td>\n",
       "      <td>38928341.0</td>\n",
       "      <td>2.581</td>\n",
       "      <td>1803.987</td>\n",
       "      <td>0.5</td>\n",
       "    </tr>\n",
       "    <tr>\n",
       "      <th>15</th>\n",
       "      <td>Afghanistan</td>\n",
       "      <td>2020-01-15</td>\n",
       "      <td>0</td>\n",
       "      <td>0</td>\n",
       "      <td>38928341.0</td>\n",
       "      <td>2.581</td>\n",
       "      <td>1803.987</td>\n",
       "      <td>0.5</td>\n",
       "    </tr>\n",
       "    <tr>\n",
       "      <th>16</th>\n",
       "      <td>Afghanistan</td>\n",
       "      <td>2020-01-16</td>\n",
       "      <td>0</td>\n",
       "      <td>0</td>\n",
       "      <td>38928341.0</td>\n",
       "      <td>2.581</td>\n",
       "      <td>1803.987</td>\n",
       "      <td>0.5</td>\n",
       "    </tr>\n",
       "    <tr>\n",
       "      <th>17</th>\n",
       "      <td>Afghanistan</td>\n",
       "      <td>2020-01-17</td>\n",
       "      <td>0</td>\n",
       "      <td>0</td>\n",
       "      <td>38928341.0</td>\n",
       "      <td>2.581</td>\n",
       "      <td>1803.987</td>\n",
       "      <td>0.5</td>\n",
       "    </tr>\n",
       "    <tr>\n",
       "      <th>18</th>\n",
       "      <td>Afghanistan</td>\n",
       "      <td>2020-01-18</td>\n",
       "      <td>0</td>\n",
       "      <td>0</td>\n",
       "      <td>38928341.0</td>\n",
       "      <td>2.581</td>\n",
       "      <td>1803.987</td>\n",
       "      <td>0.5</td>\n",
       "    </tr>\n",
       "    <tr>\n",
       "      <th>19</th>\n",
       "      <td>Afghanistan</td>\n",
       "      <td>2020-01-19</td>\n",
       "      <td>0</td>\n",
       "      <td>0</td>\n",
       "      <td>38928341.0</td>\n",
       "      <td>2.581</td>\n",
       "      <td>1803.987</td>\n",
       "      <td>0.5</td>\n",
       "    </tr>\n",
       "  </tbody>\n",
       "</table>\n",
       "</div>"
      ],
      "text/plain": [
       "       location        date  new_cases  new_deaths  population  \\\n",
       "0   Afghanistan  2019-12-31          0           0  38928341.0   \n",
       "1   Afghanistan  2020-01-01          0           0  38928341.0   \n",
       "2   Afghanistan  2020-01-02          0           0  38928341.0   \n",
       "3   Afghanistan  2020-01-03          0           0  38928341.0   \n",
       "4   Afghanistan  2020-01-04          0           0  38928341.0   \n",
       "5   Afghanistan  2020-01-05          0           0  38928341.0   \n",
       "6   Afghanistan  2020-01-06          0           0  38928341.0   \n",
       "7   Afghanistan  2020-01-07          0           0  38928341.0   \n",
       "8   Afghanistan  2020-01-08          0           0  38928341.0   \n",
       "9   Afghanistan  2020-01-09          0           0  38928341.0   \n",
       "10  Afghanistan  2020-01-10          0           0  38928341.0   \n",
       "11  Afghanistan  2020-01-11          0           0  38928341.0   \n",
       "12  Afghanistan  2020-01-12          0           0  38928341.0   \n",
       "13  Afghanistan  2020-01-13          0           0  38928341.0   \n",
       "14  Afghanistan  2020-01-14          0           0  38928341.0   \n",
       "15  Afghanistan  2020-01-15          0           0  38928341.0   \n",
       "16  Afghanistan  2020-01-16          0           0  38928341.0   \n",
       "17  Afghanistan  2020-01-17          0           0  38928341.0   \n",
       "18  Afghanistan  2020-01-18          0           0  38928341.0   \n",
       "19  Afghanistan  2020-01-19          0           0  38928341.0   \n",
       "\n",
       "    aged_65_older_percent  gdp_per_capita  hospital_beds_per_thousand  \n",
       "0                   2.581        1803.987                         0.5  \n",
       "1                   2.581        1803.987                         0.5  \n",
       "2                   2.581        1803.987                         0.5  \n",
       "3                   2.581        1803.987                         0.5  \n",
       "4                   2.581        1803.987                         0.5  \n",
       "5                   2.581        1803.987                         0.5  \n",
       "6                   2.581        1803.987                         0.5  \n",
       "7                   2.581        1803.987                         0.5  \n",
       "8                   2.581        1803.987                         0.5  \n",
       "9                   2.581        1803.987                         0.5  \n",
       "10                  2.581        1803.987                         0.5  \n",
       "11                  2.581        1803.987                         0.5  \n",
       "12                  2.581        1803.987                         0.5  \n",
       "13                  2.581        1803.987                         0.5  \n",
       "14                  2.581        1803.987                         0.5  \n",
       "15                  2.581        1803.987                         0.5  \n",
       "16                  2.581        1803.987                         0.5  \n",
       "17                  2.581        1803.987                         0.5  \n",
       "18                  2.581        1803.987                         0.5  \n",
       "19                  2.581        1803.987                         0.5  "
      ]
     },
     "execution_count": 290,
     "metadata": {},
     "output_type": "execute_result"
    }
   ],
   "source": [
    "covid_data.head(20)"
   ]
  },
  {
   "cell_type": "code",
   "execution_count": 291,
   "id": "f8ff9210",
   "metadata": {},
   "outputs": [
    {
     "data": {
      "text/plain": [
       "(23082, 8)"
      ]
     },
     "execution_count": 291,
     "metadata": {},
     "output_type": "execute_result"
    }
   ],
   "source": [
    "covid_data.shape"
   ]
  },
  {
   "cell_type": "code",
   "execution_count": 292,
   "id": "ecf43367",
   "metadata": {},
   "outputs": [
    {
     "name": "stdout",
     "output_type": "stream",
     "text": [
      "<class 'pandas.core.frame.DataFrame'>\n",
      "RangeIndex: 23082 entries, 0 to 23081\n",
      "Data columns (total 8 columns):\n",
      " #   Column                      Non-Null Count  Dtype  \n",
      "---  ------                      --------------  -----  \n",
      " 0   location                    23082 non-null  object \n",
      " 1   date                        23082 non-null  object \n",
      " 2   new_cases                   23082 non-null  int64  \n",
      " 3   new_deaths                  23082 non-null  int64  \n",
      " 4   population                  23018 non-null  float64\n",
      " 5   aged_65_older_percent       20643 non-null  float64\n",
      " 6   gdp_per_capita              20711 non-null  float64\n",
      " 7   hospital_beds_per_thousand  19144 non-null  float64\n",
      "dtypes: float64(4), int64(2), object(2)\n",
      "memory usage: 1.4+ MB\n"
     ]
    }
   ],
   "source": [
    "covid_data.info()"
   ]
  },
  {
   "cell_type": "code",
   "execution_count": 293,
   "id": "87666288",
   "metadata": {},
   "outputs": [
    {
     "data": {
      "text/html": [
       "<div>\n",
       "<style scoped>\n",
       "    .dataframe tbody tr th:only-of-type {\n",
       "        vertical-align: middle;\n",
       "    }\n",
       "\n",
       "    .dataframe tbody tr th {\n",
       "        vertical-align: top;\n",
       "    }\n",
       "\n",
       "    .dataframe thead th {\n",
       "        text-align: right;\n",
       "    }\n",
       "</style>\n",
       "<table border=\"1\" class=\"dataframe\">\n",
       "  <thead>\n",
       "    <tr style=\"text-align: right;\">\n",
       "      <th></th>\n",
       "      <th>new_cases</th>\n",
       "      <th>new_deaths</th>\n",
       "      <th>population</th>\n",
       "      <th>aged_65_older_percent</th>\n",
       "      <th>gdp_per_capita</th>\n",
       "      <th>hospital_beds_per_thousand</th>\n",
       "    </tr>\n",
       "  </thead>\n",
       "  <tbody>\n",
       "    <tr>\n",
       "      <th>count</th>\n",
       "      <td>23082.000000</td>\n",
       "      <td>23082.000000</td>\n",
       "      <td>2.301800e+04</td>\n",
       "      <td>20643.000000</td>\n",
       "      <td>20711.000000</td>\n",
       "      <td>19144.000000</td>\n",
       "    </tr>\n",
       "    <tr>\n",
       "      <th>mean</th>\n",
       "      <td>624.769257</td>\n",
       "      <td>35.629062</td>\n",
       "      <td>1.037003e+08</td>\n",
       "      <td>9.758570</td>\n",
       "      <td>22708.384791</td>\n",
       "      <td>3.204687</td>\n",
       "    </tr>\n",
       "    <tr>\n",
       "      <th>std</th>\n",
       "      <td>5517.309068</td>\n",
       "      <td>330.986941</td>\n",
       "      <td>6.716897e+08</td>\n",
       "      <td>6.445662</td>\n",
       "      <td>21187.826121</td>\n",
       "      <td>2.593700</td>\n",
       "    </tr>\n",
       "    <tr>\n",
       "      <th>min</th>\n",
       "      <td>-2461.000000</td>\n",
       "      <td>-1918.000000</td>\n",
       "      <td>8.090000e+02</td>\n",
       "      <td>1.144000</td>\n",
       "      <td>661.240000</td>\n",
       "      <td>0.100000</td>\n",
       "    </tr>\n",
       "    <tr>\n",
       "      <th>25%</th>\n",
       "      <td>0.000000</td>\n",
       "      <td>0.000000</td>\n",
       "      <td>2.083380e+06</td>\n",
       "      <td>3.853000</td>\n",
       "      <td>6426.674000</td>\n",
       "      <td>1.400000</td>\n",
       "    </tr>\n",
       "    <tr>\n",
       "      <th>50%</th>\n",
       "      <td>3.000000</td>\n",
       "      <td>0.000000</td>\n",
       "      <td>9.449321e+06</td>\n",
       "      <td>7.646000</td>\n",
       "      <td>15524.995000</td>\n",
       "      <td>2.600000</td>\n",
       "    </tr>\n",
       "    <tr>\n",
       "      <th>75%</th>\n",
       "      <td>55.000000</td>\n",
       "      <td>1.000000</td>\n",
       "      <td>3.346920e+07</td>\n",
       "      <td>15.322000</td>\n",
       "      <td>35220.084000</td>\n",
       "      <td>4.210000</td>\n",
       "    </tr>\n",
       "    <tr>\n",
       "      <th>max</th>\n",
       "      <td>133510.000000</td>\n",
       "      <td>10520.000000</td>\n",
       "      <td>7.794799e+09</td>\n",
       "      <td>27.049000</td>\n",
       "      <td>116935.600000</td>\n",
       "      <td>13.800000</td>\n",
       "    </tr>\n",
       "  </tbody>\n",
       "</table>\n",
       "</div>"
      ],
      "text/plain": [
       "           new_cases    new_deaths    population  aged_65_older_percent  \\\n",
       "count   23082.000000  23082.000000  2.301800e+04           20643.000000   \n",
       "mean      624.769257     35.629062  1.037003e+08               9.758570   \n",
       "std      5517.309068    330.986941  6.716897e+08               6.445662   \n",
       "min     -2461.000000  -1918.000000  8.090000e+02               1.144000   \n",
       "25%         0.000000      0.000000  2.083380e+06               3.853000   \n",
       "50%         3.000000      0.000000  9.449321e+06               7.646000   \n",
       "75%        55.000000      1.000000  3.346920e+07              15.322000   \n",
       "max    133510.000000  10520.000000  7.794799e+09              27.049000   \n",
       "\n",
       "       gdp_per_capita  hospital_beds_per_thousand  \n",
       "count    20711.000000                19144.000000  \n",
       "mean     22708.384791                    3.204687  \n",
       "std      21187.826121                    2.593700  \n",
       "min        661.240000                    0.100000  \n",
       "25%       6426.674000                    1.400000  \n",
       "50%      15524.995000                    2.600000  \n",
       "75%      35220.084000                    4.210000  \n",
       "max     116935.600000                   13.800000  "
      ]
     },
     "execution_count": 293,
     "metadata": {},
     "output_type": "execute_result"
    }
   ],
   "source": [
    "covid_data.describe()"
   ]
  },
  {
   "cell_type": "code",
   "execution_count": 294,
   "id": "c17993b4",
   "metadata": {},
   "outputs": [],
   "source": [
    "# assert that there are no duplicated rows in the dataframe\n",
    "assert(covid_data.duplicated().sum() == 0 )\n"
   ]
  },
  {
   "cell_type": "code",
   "execution_count": 295,
   "id": "457c095d",
   "metadata": {},
   "outputs": [],
   "source": [
    "# dataframe name (covid_data) is hardcoded in the function:\n",
    "    # Takes column name as param \n",
    "    # returns unique in indicated column\n",
    "    \n",
    "def entries(columnName):\n",
    "    #param: name of column\n",
    "    global covid_data\n",
    "    df = covid_data\n",
    "    return df[columnName].unique()"
   ]
  },
  {
   "cell_type": "code",
   "execution_count": 296,
   "id": "8a96f0b6",
   "metadata": {},
   "outputs": [
    {
     "data": {
      "text/plain": [
       "array(['Afghanistan', 'Albania', 'Algeria', 'Andorra', 'Angola',\n",
       "       'Anguilla', 'Antigua and Barbuda', 'Argentina', 'Armenia', 'Aruba',\n",
       "       'Australia', 'Austria', 'Azerbaijan', 'Bahamas', 'Bahrain',\n",
       "       'Bangladesh', 'Barbados', 'Belarus', 'Belgium', 'Belize', 'Benin',\n",
       "       'Bermuda', 'Bhutan', 'Bolivia', 'Bonaire Sint Eustatius and Saba',\n",
       "       'Bosnia and Herzegovina', 'Botswana', 'Brazil',\n",
       "       'British Virgin Islands', 'Brunei', 'Bulgaria', 'Burkina Faso',\n",
       "       'Burundi', 'Cambodia', 'Cameroon', 'Canada', 'Cape Verde',\n",
       "       'Cayman Islands', 'Central African Republic', 'Chad', 'Chile',\n",
       "       'China', 'Colombia', 'Comoros', 'Congo', 'Costa Rica',\n",
       "       \"Cote d'Ivoire\", 'Croatia', 'Cuba', 'Curacao', 'Cyprus',\n",
       "       'Czech Republic', 'Democratic Republic of Congo', 'Denmark',\n",
       "       'Djibouti', 'Dominica', 'Dominican Republic', 'Ecuador', 'Egypt',\n",
       "       'El Salvador', 'Equatorial Guinea', 'Eritrea', 'Estonia',\n",
       "       'Ethiopia', 'Faeroe Islands', 'Falkland Islands', 'Fiji',\n",
       "       'Finland', 'France', 'French Polynesia', 'Gabon', 'Gambia',\n",
       "       'Georgia', 'Germany', 'Ghana', 'Gibraltar', 'Greece', 'Greenland',\n",
       "       'Grenada', 'Guam', 'Guatemala', 'Guernsey', 'Guinea',\n",
       "       'Guinea-Bissau', 'Guyana', 'Haiti', 'Honduras', 'Hong Kong',\n",
       "       'Hungary', 'Iceland', 'India', 'Indonesia', 'Iran', 'Iraq',\n",
       "       'Ireland', 'Isle of Man', 'Israel', 'Italy', 'Jamaica', 'Japan',\n",
       "       'Jersey', 'Jordan', 'Kazakhstan', 'Kenya', 'Kosovo', 'Kuwait',\n",
       "       'Kyrgyzstan', 'Laos', 'Latvia', 'Lebanon', 'Lesotho', 'Liberia',\n",
       "       'Libya', 'Liechtenstein', 'Lithuania', 'Luxembourg', 'Macedonia',\n",
       "       'Madagascar', 'Malawi', 'Malaysia', 'Maldives', 'Mali', 'Malta',\n",
       "       'Mauritania', 'Mauritius', 'Mexico', 'Moldova', 'Monaco',\n",
       "       'Mongolia', 'Montenegro', 'Montserrat', 'Morocco', 'Mozambique',\n",
       "       'Myanmar', 'Namibia', 'Nepal', 'Netherlands', 'New Caledonia',\n",
       "       'New Zealand', 'Nicaragua', 'Niger', 'Nigeria',\n",
       "       'Northern Mariana Islands', 'Norway', 'Oman', 'Pakistan',\n",
       "       'Palestine', 'Panama', 'Papua New Guinea', 'Paraguay', 'Peru',\n",
       "       'Philippines', 'Poland', 'Portugal', 'Puerto Rico', 'Qatar',\n",
       "       'Romania', 'Russia', 'Rwanda', 'Saint Kitts and Nevis',\n",
       "       'Saint Lucia', 'Saint Vincent and the Grenadines', 'San Marino',\n",
       "       'Sao Tome and Principe', 'Saudi Arabia', 'Senegal', 'Serbia',\n",
       "       'Seychelles', 'Sierra Leone', 'Singapore',\n",
       "       'Sint Maarten (Dutch part)', 'Slovakia', 'Slovenia', 'Somalia',\n",
       "       'South Africa', 'South Korea', 'South Sudan', 'Spain', 'Sri Lanka',\n",
       "       'Sudan', 'Suriname', 'Swaziland', 'Sweden', 'Switzerland', 'Syria',\n",
       "       'Taiwan', 'Tajikistan', 'Tanzania', 'Thailand', 'Timor', 'Togo',\n",
       "       'Trinidad and Tobago', 'Tunisia', 'Turkey',\n",
       "       'Turks and Caicos Islands', 'Uganda', 'Ukraine',\n",
       "       'United Arab Emirates', 'United Kingdom', 'United States',\n",
       "       'United States Virgin Islands', 'Uruguay', 'Uzbekistan', 'Vatican',\n",
       "       'Venezuela', 'Vietnam', 'Western Sahara', 'Yemen', 'Zambia',\n",
       "       'Zimbabwe', 'World', 'International'], dtype=object)"
      ]
     },
     "execution_count": 296,
     "metadata": {},
     "output_type": "execute_result"
    }
   ],
   "source": [
    "entries('location')"
   ]
  },
  {
   "cell_type": "code",
   "execution_count": 297,
   "id": "5b6d16a4",
   "metadata": {},
   "outputs": [
    {
     "data": {
      "text/plain": [
       "False"
      ]
     },
     "execution_count": 297,
     "metadata": {},
     "output_type": "execute_result"
    }
   ],
   "source": [
    "#investigate\n",
    "covid_data.location.isnull().sum().any()"
   ]
  },
  {
   "cell_type": "code",
   "execution_count": 298,
   "id": "4b6d2d86",
   "metadata": {},
   "outputs": [],
   "source": [
    "#Countries without population figures\n",
    "countries_no_population_figures = covid_data[covid_data['population'].isnull()]"
   ]
  },
  {
   "cell_type": "code",
   "execution_count": 299,
   "id": "536cac1b",
   "metadata": {},
   "outputs": [
    {
     "data": {
      "text/html": [
       "<div>\n",
       "<style scoped>\n",
       "    .dataframe tbody tr th:only-of-type {\n",
       "        vertical-align: middle;\n",
       "    }\n",
       "\n",
       "    .dataframe tbody tr th {\n",
       "        vertical-align: top;\n",
       "    }\n",
       "\n",
       "    .dataframe thead th {\n",
       "        text-align: right;\n",
       "    }\n",
       "</style>\n",
       "<table border=\"1\" class=\"dataframe\">\n",
       "  <thead>\n",
       "    <tr style=\"text-align: right;\">\n",
       "      <th></th>\n",
       "      <th>location</th>\n",
       "      <th>date</th>\n",
       "      <th>new_cases</th>\n",
       "      <th>new_deaths</th>\n",
       "      <th>population</th>\n",
       "      <th>aged_65_older_percent</th>\n",
       "      <th>gdp_per_capita</th>\n",
       "      <th>hospital_beds_per_thousand</th>\n",
       "    </tr>\n",
       "  </thead>\n",
       "  <tbody>\n",
       "    <tr>\n",
       "      <th>23026</th>\n",
       "      <td>International</td>\n",
       "      <td>2020-01-08</td>\n",
       "      <td>0</td>\n",
       "      <td>0</td>\n",
       "      <td>NaN</td>\n",
       "      <td>NaN</td>\n",
       "      <td>NaN</td>\n",
       "      <td>NaN</td>\n",
       "    </tr>\n",
       "    <tr>\n",
       "      <th>23059</th>\n",
       "      <td>International</td>\n",
       "      <td>2020-02-10</td>\n",
       "      <td>6</td>\n",
       "      <td>0</td>\n",
       "      <td>NaN</td>\n",
       "      <td>NaN</td>\n",
       "      <td>NaN</td>\n",
       "      <td>NaN</td>\n",
       "    </tr>\n",
       "    <tr>\n",
       "      <th>23018</th>\n",
       "      <td>International</td>\n",
       "      <td>2019-12-31</td>\n",
       "      <td>0</td>\n",
       "      <td>0</td>\n",
       "      <td>NaN</td>\n",
       "      <td>NaN</td>\n",
       "      <td>NaN</td>\n",
       "      <td>NaN</td>\n",
       "    </tr>\n",
       "    <tr>\n",
       "      <th>23049</th>\n",
       "      <td>International</td>\n",
       "      <td>2020-01-31</td>\n",
       "      <td>0</td>\n",
       "      <td>0</td>\n",
       "      <td>NaN</td>\n",
       "      <td>NaN</td>\n",
       "      <td>NaN</td>\n",
       "      <td>NaN</td>\n",
       "    </tr>\n",
       "    <tr>\n",
       "      <th>23057</th>\n",
       "      <td>International</td>\n",
       "      <td>2020-02-08</td>\n",
       "      <td>3</td>\n",
       "      <td>0</td>\n",
       "      <td>NaN</td>\n",
       "      <td>NaN</td>\n",
       "      <td>NaN</td>\n",
       "      <td>NaN</td>\n",
       "    </tr>\n",
       "    <tr>\n",
       "      <th>23054</th>\n",
       "      <td>International</td>\n",
       "      <td>2020-02-05</td>\n",
       "      <td>10</td>\n",
       "      <td>0</td>\n",
       "      <td>NaN</td>\n",
       "      <td>NaN</td>\n",
       "      <td>NaN</td>\n",
       "      <td>NaN</td>\n",
       "    </tr>\n",
       "    <tr>\n",
       "      <th>23070</th>\n",
       "      <td>International</td>\n",
       "      <td>2020-02-21</td>\n",
       "      <td>13</td>\n",
       "      <td>0</td>\n",
       "      <td>NaN</td>\n",
       "      <td>NaN</td>\n",
       "      <td>NaN</td>\n",
       "      <td>NaN</td>\n",
       "    </tr>\n",
       "    <tr>\n",
       "      <th>23046</th>\n",
       "      <td>International</td>\n",
       "      <td>2020-01-28</td>\n",
       "      <td>0</td>\n",
       "      <td>0</td>\n",
       "      <td>NaN</td>\n",
       "      <td>NaN</td>\n",
       "      <td>NaN</td>\n",
       "      <td>NaN</td>\n",
       "    </tr>\n",
       "    <tr>\n",
       "      <th>23038</th>\n",
       "      <td>International</td>\n",
       "      <td>2020-01-20</td>\n",
       "      <td>0</td>\n",
       "      <td>0</td>\n",
       "      <td>NaN</td>\n",
       "      <td>NaN</td>\n",
       "      <td>NaN</td>\n",
       "      <td>NaN</td>\n",
       "    </tr>\n",
       "    <tr>\n",
       "      <th>23044</th>\n",
       "      <td>International</td>\n",
       "      <td>2020-01-26</td>\n",
       "      <td>0</td>\n",
       "      <td>0</td>\n",
       "      <td>NaN</td>\n",
       "      <td>NaN</td>\n",
       "      <td>NaN</td>\n",
       "      <td>NaN</td>\n",
       "    </tr>\n",
       "  </tbody>\n",
       "</table>\n",
       "</div>"
      ],
      "text/plain": [
       "            location        date  new_cases  new_deaths  population  \\\n",
       "23026  International  2020-01-08          0           0         NaN   \n",
       "23059  International  2020-02-10          6           0         NaN   \n",
       "23018  International  2019-12-31          0           0         NaN   \n",
       "23049  International  2020-01-31          0           0         NaN   \n",
       "23057  International  2020-02-08          3           0         NaN   \n",
       "23054  International  2020-02-05         10           0         NaN   \n",
       "23070  International  2020-02-21         13           0         NaN   \n",
       "23046  International  2020-01-28          0           0         NaN   \n",
       "23038  International  2020-01-20          0           0         NaN   \n",
       "23044  International  2020-01-26          0           0         NaN   \n",
       "\n",
       "       aged_65_older_percent  gdp_per_capita  hospital_beds_per_thousand  \n",
       "23026                    NaN             NaN                         NaN  \n",
       "23059                    NaN             NaN                         NaN  \n",
       "23018                    NaN             NaN                         NaN  \n",
       "23049                    NaN             NaN                         NaN  \n",
       "23057                    NaN             NaN                         NaN  \n",
       "23054                    NaN             NaN                         NaN  \n",
       "23070                    NaN             NaN                         NaN  \n",
       "23046                    NaN             NaN                         NaN  \n",
       "23038                    NaN             NaN                         NaN  \n",
       "23044                    NaN             NaN                         NaN  "
      ]
     },
     "execution_count": 299,
     "metadata": {},
     "output_type": "execute_result"
    }
   ],
   "source": [
    "countries_no_population_figures.sample(10)"
   ]
  },
  {
   "cell_type": "code",
   "execution_count": 300,
   "id": "003400ab",
   "metadata": {},
   "outputs": [
    {
     "data": {
      "text/plain": [
       "location\n",
       "Afghanistan       1\n",
       "Albania           1\n",
       "Algeria           1\n",
       "Andorra           1\n",
       "Angola            1\n",
       "                 ..\n",
       "Western Sahara    1\n",
       "World             1\n",
       "Yemen             1\n",
       "Zambia            1\n",
       "Zimbabwe          1\n",
       "Name: location, Length: 212, dtype: int64"
      ]
     },
     "execution_count": 300,
     "metadata": {},
     "output_type": "execute_result"
    }
   ],
   "source": [
    "covid_data.groupby('location')['location'].nunique()"
   ]
  },
  {
   "cell_type": "code",
   "execution_count": 301,
   "id": "dc13c832",
   "metadata": {},
   "outputs": [
    {
     "data": {
      "text/plain": [
       "64"
      ]
     },
     "execution_count": 301,
     "metadata": {},
     "output_type": "execute_result"
    }
   ],
   "source": [
    "covid_data.location.value_counts()['International']"
   ]
  },
  {
   "cell_type": "code",
   "execution_count": 302,
   "id": "7fab406f",
   "metadata": {},
   "outputs": [
    {
     "data": {
      "text/plain": [
       "Germany           163\n",
       "Japan             163\n",
       "Czech Republic    163\n",
       "United States     163\n",
       "Brazil            163\n",
       "                 ... \n",
       "Yemen              62\n",
       "Western Sahara     46\n",
       "Tajikistan         41\n",
       "Comoros            40\n",
       "Lesotho            27\n",
       "Name: location, Length: 212, dtype: int64"
      ]
     },
     "execution_count": 302,
     "metadata": {},
     "output_type": "execute_result"
    }
   ],
   "source": [
    "covid_data.location.value_counts()\n"
   ]
  },
  {
   "cell_type": "code",
   "execution_count": null,
   "id": "6b167cb6",
   "metadata": {},
   "outputs": [],
   "source": []
  },
  {
   "cell_type": "code",
   "execution_count": null,
   "id": "8a664d8a",
   "metadata": {},
   "outputs": [],
   "source": []
  },
  {
   "cell_type": "markdown",
   "id": "3d175e1e",
   "metadata": {},
   "source": [
    "## Cleaning Data"
   ]
  },
  {
   "cell_type": "code",
   "execution_count": 303,
   "id": "2b6fdff4",
   "metadata": {},
   "outputs": [],
   "source": [
    "clean_df = covid_data.copy()"
   ]
  },
  {
   "cell_type": "code",
   "execution_count": 304,
   "id": "ea80b477",
   "metadata": {},
   "outputs": [
    {
     "name": "stdout",
     "output_type": "stream",
     "text": [
      "<class 'pandas.core.frame.DataFrame'>\n",
      "RangeIndex: 23082 entries, 0 to 23081\n",
      "Data columns (total 8 columns):\n",
      " #   Column                      Non-Null Count  Dtype  \n",
      "---  ------                      --------------  -----  \n",
      " 0   location                    23082 non-null  object \n",
      " 1   date                        23082 non-null  object \n",
      " 2   new_cases                   23082 non-null  int64  \n",
      " 3   new_deaths                  23082 non-null  int64  \n",
      " 4   population                  23018 non-null  float64\n",
      " 5   aged_65_older_percent       20643 non-null  float64\n",
      " 6   gdp_per_capita              20711 non-null  float64\n",
      " 7   hospital_beds_per_thousand  19144 non-null  float64\n",
      "dtypes: float64(4), int64(2), object(2)\n",
      "memory usage: 1.4+ MB\n"
     ]
    }
   ],
   "source": [
    "#confirm that the df has been copied \n",
    "clean_df.info()"
   ]
  },
  {
   "cell_type": "code",
   "execution_count": 305,
   "id": "3e16c05f",
   "metadata": {},
   "outputs": [
    {
     "data": {
      "text/plain": [
       "<bound method Series.info of 0        2019-12-31\n",
       "1        2020-01-01\n",
       "2        2020-01-02\n",
       "3        2020-01-03\n",
       "4        2020-01-04\n",
       "            ...    \n",
       "23077    2020-02-28\n",
       "23078    2020-02-29\n",
       "23079    2020-03-01\n",
       "23080    2020-03-02\n",
       "23081    2020-03-10\n",
       "Name: date, Length: 23082, dtype: object>"
      ]
     },
     "execution_count": 305,
     "metadata": {},
     "output_type": "execute_result"
    }
   ],
   "source": [
    "# Convert date to datetime object\n",
    "clean_df.date.info"
   ]
  },
  {
   "cell_type": "code",
   "execution_count": 306,
   "id": "6e7bdf51",
   "metadata": {},
   "outputs": [
    {
     "data": {
      "text/plain": [
       "False"
      ]
     },
     "execution_count": 306,
     "metadata": {},
     "output_type": "execute_result"
    }
   ],
   "source": [
    "#Check for null values\n",
    "clean_df.date.isnull().values.any()"
   ]
  },
  {
   "cell_type": "code",
   "execution_count": 307,
   "id": "f3b2a13a",
   "metadata": {},
   "outputs": [],
   "source": [
    "clean_df.date = pd.to_datetime(clean_df.date)"
   ]
  },
  {
   "cell_type": "code",
   "execution_count": 308,
   "id": "aad63b97",
   "metadata": {},
   "outputs": [
    {
     "data": {
      "text/plain": [
       "<bound method Series.info of 0       2019-12-31\n",
       "1       2020-01-01\n",
       "2       2020-01-02\n",
       "3       2020-01-03\n",
       "4       2020-01-04\n",
       "           ...    \n",
       "23077   2020-02-28\n",
       "23078   2020-02-29\n",
       "23079   2020-03-01\n",
       "23080   2020-03-02\n",
       "23081   2020-03-10\n",
       "Name: date, Length: 23082, dtype: datetime64[ns]>"
      ]
     },
     "execution_count": 308,
     "metadata": {},
     "output_type": "execute_result"
    }
   ],
   "source": [
    "#Conversion\n",
    "clean_df.date.info"
   ]
  },
  {
   "cell_type": "code",
   "execution_count": 309,
   "id": "9c36adfa",
   "metadata": {},
   "outputs": [],
   "source": [
    "assert clean_df['date'].dtype == 'datetime64[ns]'"
   ]
  },
  {
   "cell_type": "code",
   "execution_count": 310,
   "id": "e1f3d027",
   "metadata": {},
   "outputs": [
    {
     "data": {
      "text/plain": [
       "<bound method Series.info of 0       2019-12-31\n",
       "1       2020-01-01\n",
       "2       2020-01-02\n",
       "3       2020-01-03\n",
       "4       2020-01-04\n",
       "           ...    \n",
       "23077   2020-02-28\n",
       "23078   2020-02-29\n",
       "23079   2020-03-01\n",
       "23080   2020-03-02\n",
       "23081   2020-03-10\n",
       "Name: date, Length: 23082, dtype: datetime64[ns]>"
      ]
     },
     "execution_count": 310,
     "metadata": {},
     "output_type": "execute_result"
    }
   ],
   "source": [
    "clean_df['date'].info"
   ]
  },
  {
   "cell_type": "markdown",
   "id": "cf20e5df",
   "metadata": {},
   "source": [
    "##### remove negative entries in new_cases and new_deaths counts "
   ]
  },
  {
   "cell_type": "code",
   "execution_count": 311,
   "id": "b8c5aaea",
   "metadata": {},
   "outputs": [
    {
     "data": {
      "text/html": [
       "<div>\n",
       "<style scoped>\n",
       "    .dataframe tbody tr th:only-of-type {\n",
       "        vertical-align: middle;\n",
       "    }\n",
       "\n",
       "    .dataframe tbody tr th {\n",
       "        vertical-align: top;\n",
       "    }\n",
       "\n",
       "    .dataframe thead th {\n",
       "        text-align: right;\n",
       "    }\n",
       "</style>\n",
       "<table border=\"1\" class=\"dataframe\">\n",
       "  <thead>\n",
       "    <tr style=\"text-align: right;\">\n",
       "      <th></th>\n",
       "      <th>location</th>\n",
       "      <th>date</th>\n",
       "      <th>new_cases</th>\n",
       "      <th>new_deaths</th>\n",
       "      <th>population</th>\n",
       "      <th>aged_65_older_percent</th>\n",
       "      <th>gdp_per_capita</th>\n",
       "      <th>hospital_beds_per_thousand</th>\n",
       "    </tr>\n",
       "  </thead>\n",
       "  <tbody>\n",
       "    <tr>\n",
       "      <th>2446</th>\n",
       "      <td>Benin</td>\n",
       "      <td>2020-05-20</td>\n",
       "      <td>-209</td>\n",
       "      <td>0</td>\n",
       "      <td>12123198.0</td>\n",
       "      <td>3.244</td>\n",
       "      <td>2064.236</td>\n",
       "      <td>0.50</td>\n",
       "    </tr>\n",
       "    <tr>\n",
       "      <th>6237</th>\n",
       "      <td>Ecuador</td>\n",
       "      <td>2020-05-07</td>\n",
       "      <td>-2461</td>\n",
       "      <td>49</td>\n",
       "      <td>17643060.0</td>\n",
       "      <td>7.104</td>\n",
       "      <td>10581.936</td>\n",
       "      <td>1.50</td>\n",
       "    </tr>\n",
       "    <tr>\n",
       "      <th>6239</th>\n",
       "      <td>Ecuador</td>\n",
       "      <td>2020-05-09</td>\n",
       "      <td>-1480</td>\n",
       "      <td>50</td>\n",
       "      <td>17643060.0</td>\n",
       "      <td>7.104</td>\n",
       "      <td>10581.936</td>\n",
       "      <td>1.50</td>\n",
       "    </tr>\n",
       "    <tr>\n",
       "      <th>6242</th>\n",
       "      <td>Ecuador</td>\n",
       "      <td>2020-05-12</td>\n",
       "      <td>-50</td>\n",
       "      <td>18</td>\n",
       "      <td>17643060.0</td>\n",
       "      <td>7.104</td>\n",
       "      <td>10581.936</td>\n",
       "      <td>1.50</td>\n",
       "    </tr>\n",
       "    <tr>\n",
       "      <th>7488</th>\n",
       "      <td>France</td>\n",
       "      <td>2020-06-03</td>\n",
       "      <td>-766</td>\n",
       "      <td>107</td>\n",
       "      <td>65273512.0</td>\n",
       "      <td>19.718</td>\n",
       "      <td>38605.671</td>\n",
       "      <td>5.98</td>\n",
       "    </tr>\n",
       "    <tr>\n",
       "      <th>12538</th>\n",
       "      <td>Lithuania</td>\n",
       "      <td>2020-04-29</td>\n",
       "      <td>-105</td>\n",
       "      <td>3</td>\n",
       "      <td>2722291.0</td>\n",
       "      <td>19.002</td>\n",
       "      <td>29524.265</td>\n",
       "      <td>6.56</td>\n",
       "    </tr>\n",
       "    <tr>\n",
       "      <th>16899</th>\n",
       "      <td>Portugal</td>\n",
       "      <td>2020-05-03</td>\n",
       "      <td>-161</td>\n",
       "      <td>16</td>\n",
       "      <td>10196707.0</td>\n",
       "      <td>21.502</td>\n",
       "      <td>27936.896</td>\n",
       "      <td>3.39</td>\n",
       "    </tr>\n",
       "    <tr>\n",
       "      <th>17959</th>\n",
       "      <td>San Marino</td>\n",
       "      <td>2020-05-11</td>\n",
       "      <td>-9</td>\n",
       "      <td>0</td>\n",
       "      <td>33938.0</td>\n",
       "      <td>NaN</td>\n",
       "      <td>56861.470</td>\n",
       "      <td>3.80</td>\n",
       "    </tr>\n",
       "    <tr>\n",
       "      <th>19498</th>\n",
       "      <td>Spain</td>\n",
       "      <td>2020-04-19</td>\n",
       "      <td>-713</td>\n",
       "      <td>410</td>\n",
       "      <td>46754783.0</td>\n",
       "      <td>19.436</td>\n",
       "      <td>34272.360</td>\n",
       "      <td>2.97</td>\n",
       "    </tr>\n",
       "    <tr>\n",
       "      <th>19534</th>\n",
       "      <td>Spain</td>\n",
       "      <td>2020-05-25</td>\n",
       "      <td>-372</td>\n",
       "      <td>-1918</td>\n",
       "      <td>46754783.0</td>\n",
       "      <td>19.436</td>\n",
       "      <td>34272.360</td>\n",
       "      <td>2.97</td>\n",
       "    </tr>\n",
       "    <tr>\n",
       "      <th>21396</th>\n",
       "      <td>Uganda</td>\n",
       "      <td>2020-05-21</td>\n",
       "      <td>-115</td>\n",
       "      <td>0</td>\n",
       "      <td>45741000.0</td>\n",
       "      <td>2.168</td>\n",
       "      <td>1697.707</td>\n",
       "      <td>0.50</td>\n",
       "    </tr>\n",
       "    <tr>\n",
       "      <th>21408</th>\n",
       "      <td>Uganda</td>\n",
       "      <td>2020-06-02</td>\n",
       "      <td>-1</td>\n",
       "      <td>0</td>\n",
       "      <td>45741000.0</td>\n",
       "      <td>2.168</td>\n",
       "      <td>1697.707</td>\n",
       "      <td>0.50</td>\n",
       "    </tr>\n",
       "    <tr>\n",
       "      <th>21805</th>\n",
       "      <td>United Kingdom</td>\n",
       "      <td>2020-05-21</td>\n",
       "      <td>-525</td>\n",
       "      <td>363</td>\n",
       "      <td>67886004.0</td>\n",
       "      <td>18.517</td>\n",
       "      <td>39753.244</td>\n",
       "      <td>2.54</td>\n",
       "    </tr>\n",
       "    <tr>\n",
       "      <th>23081</th>\n",
       "      <td>International</td>\n",
       "      <td>2020-03-10</td>\n",
       "      <td>-9</td>\n",
       "      <td>1</td>\n",
       "      <td>NaN</td>\n",
       "      <td>NaN</td>\n",
       "      <td>NaN</td>\n",
       "      <td>NaN</td>\n",
       "    </tr>\n",
       "  </tbody>\n",
       "</table>\n",
       "</div>"
      ],
      "text/plain": [
       "             location       date  new_cases  new_deaths  population  \\\n",
       "2446            Benin 2020-05-20       -209           0  12123198.0   \n",
       "6237          Ecuador 2020-05-07      -2461          49  17643060.0   \n",
       "6239          Ecuador 2020-05-09      -1480          50  17643060.0   \n",
       "6242          Ecuador 2020-05-12        -50          18  17643060.0   \n",
       "7488           France 2020-06-03       -766         107  65273512.0   \n",
       "12538       Lithuania 2020-04-29       -105           3   2722291.0   \n",
       "16899        Portugal 2020-05-03       -161          16  10196707.0   \n",
       "17959      San Marino 2020-05-11         -9           0     33938.0   \n",
       "19498           Spain 2020-04-19       -713         410  46754783.0   \n",
       "19534           Spain 2020-05-25       -372       -1918  46754783.0   \n",
       "21396          Uganda 2020-05-21       -115           0  45741000.0   \n",
       "21408          Uganda 2020-06-02         -1           0  45741000.0   \n",
       "21805  United Kingdom 2020-05-21       -525         363  67886004.0   \n",
       "23081   International 2020-03-10         -9           1         NaN   \n",
       "\n",
       "       aged_65_older_percent  gdp_per_capita  hospital_beds_per_thousand  \n",
       "2446                   3.244        2064.236                        0.50  \n",
       "6237                   7.104       10581.936                        1.50  \n",
       "6239                   7.104       10581.936                        1.50  \n",
       "6242                   7.104       10581.936                        1.50  \n",
       "7488                  19.718       38605.671                        5.98  \n",
       "12538                 19.002       29524.265                        6.56  \n",
       "16899                 21.502       27936.896                        3.39  \n",
       "17959                    NaN       56861.470                        3.80  \n",
       "19498                 19.436       34272.360                        2.97  \n",
       "19534                 19.436       34272.360                        2.97  \n",
       "21396                  2.168        1697.707                        0.50  \n",
       "21408                  2.168        1697.707                        0.50  \n",
       "21805                 18.517       39753.244                        2.54  \n",
       "23081                    NaN             NaN                         NaN  "
      ]
     },
     "execution_count": 311,
     "metadata": {},
     "output_type": "execute_result"
    }
   ],
   "source": [
    "clean_df[clean_df['new_cases'] < 0]"
   ]
  },
  {
   "cell_type": "markdown",
   "id": "a8553dd9",
   "metadata": {},
   "source": [
    "We have 14 rows with a negative number in the new_cases probably as a result of data entry error"
   ]
  },
  {
   "cell_type": "code",
   "execution_count": 312,
   "id": "990b8000",
   "metadata": {},
   "outputs": [],
   "source": [
    "clean_df['new_cases'] = clean_df['new_cases'].clip(lower=0)"
   ]
  },
  {
   "cell_type": "markdown",
   "id": "de65058d",
   "metadata": {},
   "source": [
    "Confirm that the new_cases column doesnt have negative numbers "
   ]
  },
  {
   "cell_type": "code",
   "execution_count": 313,
   "id": "a240e3cf",
   "metadata": {},
   "outputs": [],
   "source": [
    "assert clean_df[clean_df['new_cases'] < 0].size == 0"
   ]
  },
  {
   "cell_type": "markdown",
   "id": "ed5df99b",
   "metadata": {},
   "source": [
    "Check if there are any negative numbers in the new_deaths column"
   ]
  },
  {
   "cell_type": "code",
   "execution_count": 355,
   "id": "ddaf7f72",
   "metadata": {},
   "outputs": [
    {
     "data": {
      "text/html": [
       "<div>\n",
       "<style scoped>\n",
       "    .dataframe tbody tr th:only-of-type {\n",
       "        vertical-align: middle;\n",
       "    }\n",
       "\n",
       "    .dataframe tbody tr th {\n",
       "        vertical-align: top;\n",
       "    }\n",
       "\n",
       "    .dataframe thead th {\n",
       "        text-align: right;\n",
       "    }\n",
       "</style>\n",
       "<table border=\"1\" class=\"dataframe\">\n",
       "  <thead>\n",
       "    <tr style=\"text-align: right;\">\n",
       "      <th></th>\n",
       "      <th>location</th>\n",
       "      <th>date</th>\n",
       "      <th>new_cases</th>\n",
       "      <th>new_deaths</th>\n",
       "      <th>population</th>\n",
       "      <th>aged_65_older_percent</th>\n",
       "      <th>gdp_per_capita</th>\n",
       "      <th>hospital_beds_per_thousand</th>\n",
       "      <th>year</th>\n",
       "      <th>month</th>\n",
       "    </tr>\n",
       "  </thead>\n",
       "  <tbody>\n",
       "    <tr>\n",
       "      <th>16292</th>\n",
       "      <td>Panama</td>\n",
       "      <td>2020-06-03</td>\n",
       "      <td>258</td>\n",
       "      <td>-86</td>\n",
       "      <td>4314768.0</td>\n",
       "      <td>7.918</td>\n",
       "      <td>22267.037</td>\n",
       "      <td>2.30</td>\n",
       "      <td>2020</td>\n",
       "      <td>Jun</td>\n",
       "    </tr>\n",
       "    <tr>\n",
       "      <th>19534</th>\n",
       "      <td>Spain</td>\n",
       "      <td>2020-05-25</td>\n",
       "      <td>0</td>\n",
       "      <td>-1918</td>\n",
       "      <td>46754783.0</td>\n",
       "      <td>19.436</td>\n",
       "      <td>34272.360</td>\n",
       "      <td>2.97</td>\n",
       "      <td>2020</td>\n",
       "      <td>May</td>\n",
       "    </tr>\n",
       "  </tbody>\n",
       "</table>\n",
       "</div>"
      ],
      "text/plain": [
       "      location       date  new_cases  new_deaths  population  \\\n",
       "16292   Panama 2020-06-03        258         -86   4314768.0   \n",
       "19534    Spain 2020-05-25          0       -1918  46754783.0   \n",
       "\n",
       "       aged_65_older_percent  gdp_per_capita  hospital_beds_per_thousand  \\\n",
       "16292                  7.918       22267.037                        2.30   \n",
       "19534                 19.436       34272.360                        2.97   \n",
       "\n",
       "       year month  \n",
       "16292  2020   Jun  \n",
       "19534  2020   May  "
      ]
     },
     "execution_count": 355,
     "metadata": {},
     "output_type": "execute_result"
    }
   ],
   "source": [
    "clean_df[clean_df['new_deaths'] < 0]"
   ]
  },
  {
   "cell_type": "code",
   "execution_count": 356,
   "id": "fe66d2b5",
   "metadata": {},
   "outputs": [],
   "source": [
    "clean_df['new_deaths'] = clean_df['new_deaths'].clip(lower=0)"
   ]
  },
  {
   "cell_type": "markdown",
   "id": "d4b3094b",
   "metadata": {},
   "source": [
    "assert that there arent any negative numbers in the new_deaths column"
   ]
  },
  {
   "cell_type": "code",
   "execution_count": 357,
   "id": "8e57cd57",
   "metadata": {},
   "outputs": [],
   "source": [
    "assert clean_df[clean_df['new_deaths'] < 0].size == 0"
   ]
  },
  {
   "cell_type": "code",
   "execution_count": null,
   "id": "7b9d37a9",
   "metadata": {},
   "outputs": [],
   "source": []
  },
  {
   "cell_type": "markdown",
   "id": "da365c92",
   "metadata": {},
   "source": [
    "## Univariate Exploration"
   ]
  },
  {
   "cell_type": "code",
   "execution_count": 315,
   "id": "45018d36",
   "metadata": {},
   "outputs": [],
   "source": [
    "#The total Number of deaths over the years\n",
    "total_overall_deaths = clean_df['new_deaths'].sum()"
   ]
  },
  {
   "cell_type": "code",
   "execution_count": 316,
   "id": "90aa36f7",
   "metadata": {},
   "outputs": [
    {
     "name": "stdout",
     "output_type": "stream",
     "text": [
      "822390\n"
     ]
    }
   ],
   "source": [
    "print(total_overall_deaths)"
   ]
  },
  {
   "cell_type": "code",
   "execution_count": 317,
   "id": "c6f2ea8e",
   "metadata": {},
   "outputs": [
    {
     "data": {
      "text/plain": [
       "Timestamp('2020-06-10 00:00:00')"
      ]
     },
     "execution_count": 317,
     "metadata": {},
     "output_type": "execute_result"
    }
   ],
   "source": [
    "#Period under review earliest date\n",
    "clean_df.date.max()"
   ]
  },
  {
   "cell_type": "code",
   "execution_count": 318,
   "id": "aed877f3",
   "metadata": {},
   "outputs": [
    {
     "data": {
      "text/plain": [
       "Timestamp('2019-12-31 00:00:00')"
      ]
     },
     "execution_count": 318,
     "metadata": {},
     "output_type": "execute_result"
    }
   ],
   "source": [
    "#Period latest date\n",
    "clean_df.date.min()"
   ]
  },
  {
   "cell_type": "code",
   "execution_count": 319,
   "id": "865a15a5",
   "metadata": {},
   "outputs": [],
   "source": [
    "#add year column\n",
    "clean_df['year'] = clean_df['date'].dt.year"
   ]
  },
  {
   "cell_type": "code",
   "execution_count": 320,
   "id": "0266d151",
   "metadata": {},
   "outputs": [],
   "source": [
    "#add month column\n",
    "clean_df['month'] = clean_df['date'].dt.strftime('%b')"
   ]
  },
  {
   "cell_type": "code",
   "execution_count": 321,
   "id": "de25db0e",
   "metadata": {},
   "outputs": [
    {
     "data": {
      "text/html": [
       "<div>\n",
       "<style scoped>\n",
       "    .dataframe tbody tr th:only-of-type {\n",
       "        vertical-align: middle;\n",
       "    }\n",
       "\n",
       "    .dataframe tbody tr th {\n",
       "        vertical-align: top;\n",
       "    }\n",
       "\n",
       "    .dataframe thead th {\n",
       "        text-align: right;\n",
       "    }\n",
       "</style>\n",
       "<table border=\"1\" class=\"dataframe\">\n",
       "  <thead>\n",
       "    <tr style=\"text-align: right;\">\n",
       "      <th></th>\n",
       "      <th>location</th>\n",
       "      <th>date</th>\n",
       "      <th>new_cases</th>\n",
       "      <th>new_deaths</th>\n",
       "      <th>population</th>\n",
       "      <th>aged_65_older_percent</th>\n",
       "      <th>gdp_per_capita</th>\n",
       "      <th>hospital_beds_per_thousand</th>\n",
       "      <th>year</th>\n",
       "      <th>month</th>\n",
       "    </tr>\n",
       "  </thead>\n",
       "  <tbody>\n",
       "    <tr>\n",
       "      <th>0</th>\n",
       "      <td>Afghanistan</td>\n",
       "      <td>2019-12-31</td>\n",
       "      <td>0</td>\n",
       "      <td>0</td>\n",
       "      <td>38928341.0</td>\n",
       "      <td>2.581</td>\n",
       "      <td>1803.987</td>\n",
       "      <td>0.5</td>\n",
       "      <td>2019</td>\n",
       "      <td>Dec</td>\n",
       "    </tr>\n",
       "    <tr>\n",
       "      <th>1</th>\n",
       "      <td>Afghanistan</td>\n",
       "      <td>2020-01-01</td>\n",
       "      <td>0</td>\n",
       "      <td>0</td>\n",
       "      <td>38928341.0</td>\n",
       "      <td>2.581</td>\n",
       "      <td>1803.987</td>\n",
       "      <td>0.5</td>\n",
       "      <td>2020</td>\n",
       "      <td>Jan</td>\n",
       "    </tr>\n",
       "    <tr>\n",
       "      <th>2</th>\n",
       "      <td>Afghanistan</td>\n",
       "      <td>2020-01-02</td>\n",
       "      <td>0</td>\n",
       "      <td>0</td>\n",
       "      <td>38928341.0</td>\n",
       "      <td>2.581</td>\n",
       "      <td>1803.987</td>\n",
       "      <td>0.5</td>\n",
       "      <td>2020</td>\n",
       "      <td>Jan</td>\n",
       "    </tr>\n",
       "    <tr>\n",
       "      <th>3</th>\n",
       "      <td>Afghanistan</td>\n",
       "      <td>2020-01-03</td>\n",
       "      <td>0</td>\n",
       "      <td>0</td>\n",
       "      <td>38928341.0</td>\n",
       "      <td>2.581</td>\n",
       "      <td>1803.987</td>\n",
       "      <td>0.5</td>\n",
       "      <td>2020</td>\n",
       "      <td>Jan</td>\n",
       "    </tr>\n",
       "    <tr>\n",
       "      <th>4</th>\n",
       "      <td>Afghanistan</td>\n",
       "      <td>2020-01-04</td>\n",
       "      <td>0</td>\n",
       "      <td>0</td>\n",
       "      <td>38928341.0</td>\n",
       "      <td>2.581</td>\n",
       "      <td>1803.987</td>\n",
       "      <td>0.5</td>\n",
       "      <td>2020</td>\n",
       "      <td>Jan</td>\n",
       "    </tr>\n",
       "  </tbody>\n",
       "</table>\n",
       "</div>"
      ],
      "text/plain": [
       "      location       date  new_cases  new_deaths  population  \\\n",
       "0  Afghanistan 2019-12-31          0           0  38928341.0   \n",
       "1  Afghanistan 2020-01-01          0           0  38928341.0   \n",
       "2  Afghanistan 2020-01-02          0           0  38928341.0   \n",
       "3  Afghanistan 2020-01-03          0           0  38928341.0   \n",
       "4  Afghanistan 2020-01-04          0           0  38928341.0   \n",
       "\n",
       "   aged_65_older_percent  gdp_per_capita  hospital_beds_per_thousand  year  \\\n",
       "0                  2.581        1803.987                         0.5  2019   \n",
       "1                  2.581        1803.987                         0.5  2020   \n",
       "2                  2.581        1803.987                         0.5  2020   \n",
       "3                  2.581        1803.987                         0.5  2020   \n",
       "4                  2.581        1803.987                         0.5  2020   \n",
       "\n",
       "  month  \n",
       "0   Dec  \n",
       "1   Jan  \n",
       "2   Jan  \n",
       "3   Jan  \n",
       "4   Jan  "
      ]
     },
     "execution_count": 321,
     "metadata": {},
     "output_type": "execute_result"
    }
   ],
   "source": [
    "clean_df.head()"
   ]
  },
  {
   "cell_type": "code",
   "execution_count": 322,
   "id": "eb4aee7a",
   "metadata": {},
   "outputs": [],
   "source": [
    "#Let's examine December 2019 figures \n",
    "clean_df_2019 = clean_df[clean_df['year'] == 2019]"
   ]
  },
  {
   "cell_type": "code",
   "execution_count": 323,
   "id": "58e41c72",
   "metadata": {},
   "outputs": [
    {
     "data": {
      "text/html": [
       "<div>\n",
       "<style scoped>\n",
       "    .dataframe tbody tr th:only-of-type {\n",
       "        vertical-align: middle;\n",
       "    }\n",
       "\n",
       "    .dataframe tbody tr th {\n",
       "        vertical-align: top;\n",
       "    }\n",
       "\n",
       "    .dataframe thead th {\n",
       "        text-align: right;\n",
       "    }\n",
       "</style>\n",
       "<table border=\"1\" class=\"dataframe\">\n",
       "  <thead>\n",
       "    <tr style=\"text-align: right;\">\n",
       "      <th></th>\n",
       "      <th>location</th>\n",
       "      <th>date</th>\n",
       "      <th>new_cases</th>\n",
       "      <th>new_deaths</th>\n",
       "      <th>population</th>\n",
       "      <th>aged_65_older_percent</th>\n",
       "      <th>gdp_per_capita</th>\n",
       "      <th>hospital_beds_per_thousand</th>\n",
       "      <th>year</th>\n",
       "      <th>month</th>\n",
       "    </tr>\n",
       "  </thead>\n",
       "  <tbody>\n",
       "    <tr>\n",
       "      <th>4387</th>\n",
       "      <td>China</td>\n",
       "      <td>2019-12-31</td>\n",
       "      <td>27</td>\n",
       "      <td>0</td>\n",
       "      <td>1.439324e+09</td>\n",
       "      <td>10.641</td>\n",
       "      <td>15308.712</td>\n",
       "      <td>4.340</td>\n",
       "      <td>2019</td>\n",
       "      <td>Dec</td>\n",
       "    </tr>\n",
       "    <tr>\n",
       "      <th>22855</th>\n",
       "      <td>World</td>\n",
       "      <td>2019-12-31</td>\n",
       "      <td>27</td>\n",
       "      <td>0</td>\n",
       "      <td>7.794799e+09</td>\n",
       "      <td>8.696</td>\n",
       "      <td>15469.207</td>\n",
       "      <td>2.705</td>\n",
       "      <td>2019</td>\n",
       "      <td>Dec</td>\n",
       "    </tr>\n",
       "  </tbody>\n",
       "</table>\n",
       "</div>"
      ],
      "text/plain": [
       "      location       date  new_cases  new_deaths    population  \\\n",
       "4387     China 2019-12-31         27           0  1.439324e+09   \n",
       "22855    World 2019-12-31         27           0  7.794799e+09   \n",
       "\n",
       "       aged_65_older_percent  gdp_per_capita  hospital_beds_per_thousand  \\\n",
       "4387                  10.641       15308.712                       4.340   \n",
       "22855                  8.696       15469.207                       2.705   \n",
       "\n",
       "       year month  \n",
       "4387   2019   Dec  \n",
       "22855  2019   Dec  "
      ]
     },
     "execution_count": 323,
     "metadata": {},
     "output_type": "execute_result"
    }
   ],
   "source": [
    "clean_df_2019[clean_df_2019['new_cases'] != 0]"
   ]
  },
  {
   "cell_type": "markdown",
   "id": "23860217",
   "metadata": {},
   "source": [
    "China is the only country in the world with new recorded cases in 2019, with a total of 27 cases. "
   ]
  },
  {
   "cell_type": "code",
   "execution_count": 324,
   "id": "7f77181b",
   "metadata": {},
   "outputs": [],
   "source": [
    "#Total number of deaths per country \n",
    "deaths_per_country = clean_df['new_deaths'].groupby(clean_df['location']).sum()"
   ]
  },
  {
   "cell_type": "code",
   "execution_count": null,
   "id": "26791079",
   "metadata": {},
   "outputs": [],
   "source": []
  },
  {
   "cell_type": "code",
   "execution_count": 325,
   "id": "8427e2c8",
   "metadata": {},
   "outputs": [
    {
     "data": {
      "text/plain": [
       "location\n",
       "World             411195\n",
       "United States     112006\n",
       "United Kingdom     40883\n",
       "Brazil             38406\n",
       "Italy              34043\n",
       "France             29296\n",
       "Spain              27136\n",
       "Mexico             14649\n",
       "Belgium             9619\n",
       "Germany             8729\n",
       "Iran                8425\n",
       "Canada              7897\n",
       "India               7745\n",
       "Russia              6141\n",
       "Netherlands         6031\n",
       "Peru                5738\n",
       "Turkey              4729\n",
       "Sweden              4717\n",
       "China               4638\n",
       "Ecuador             3690\n",
       "Chile               2283\n",
       "Pakistan            2255\n",
       "Indonesia           1923\n",
       "Ireland             1691\n",
       "Switzerland         1662\n",
       "Portugal            1492\n",
       "Colombia            1372\n",
       "Romania             1345\n",
       "Egypt               1306\n",
       "Poland              1183\n",
       "South Africa        1162\n",
       "Philippines         1017\n",
       "Bangladesh           975\n",
       "Japan                919\n",
       "Ukraine              810\n",
       "Saudi Arabia         783\n",
       "Algeria              724\n",
       "Argentina            717\n",
       "Austria              672\n",
       "Denmark              593\n",
       "Name: new_deaths, dtype: int64"
      ]
     },
     "execution_count": 325,
     "metadata": {},
     "output_type": "execute_result"
    }
   ],
   "source": [
    "#Top 40 Overall deaths per country\n",
    "deaths_per_country.sort_values(ascending=False).head(40)\n",
    "\n"
   ]
  },
  {
   "cell_type": "code",
   "execution_count": 326,
   "id": "4b397339",
   "metadata": {},
   "outputs": [
    {
     "data": {
      "text/plain": [
       "4206    2.486\n",
       "4207    2.486\n",
       "4208    2.486\n",
       "4209    2.486\n",
       "4210    2.486\n",
       "        ...  \n",
       "4284    2.486\n",
       "4285    2.486\n",
       "4286    2.486\n",
       "4287    2.486\n",
       "4288    2.486\n",
       "Name: aged_65_older_percent, Length: 83, dtype: float64"
      ]
     },
     "execution_count": 326,
     "metadata": {},
     "output_type": "execute_result"
    }
   ],
   "source": [
    "clean_df[clean_df['location'] == 'Chad'].aged_65_older_percent"
   ]
  },
  {
   "cell_type": "markdown",
   "id": "e0cdb219",
   "metadata": {},
   "source": [
    "Country with the highest percent of aged over 65"
   ]
  },
  {
   "cell_type": "code",
   "execution_count": 327,
   "id": "a9e21423",
   "metadata": {},
   "outputs": [],
   "source": [
    "aged_65_older_per_country = clean_df[['location', 'aged_65_older_percent']].drop_duplicates()\n"
   ]
  },
  {
   "cell_type": "code",
   "execution_count": 328,
   "id": "3cbc21a4",
   "metadata": {},
   "outputs": [
    {
     "data": {
      "text/html": [
       "<div>\n",
       "<style scoped>\n",
       "    .dataframe tbody tr th:only-of-type {\n",
       "        vertical-align: middle;\n",
       "    }\n",
       "\n",
       "    .dataframe tbody tr th {\n",
       "        vertical-align: top;\n",
       "    }\n",
       "\n",
       "    .dataframe thead th {\n",
       "        text-align: right;\n",
       "    }\n",
       "</style>\n",
       "<table border=\"1\" class=\"dataframe\">\n",
       "  <thead>\n",
       "    <tr style=\"text-align: right;\">\n",
       "      <th></th>\n",
       "      <th>location</th>\n",
       "      <th>aged_65_older_percent</th>\n",
       "    </tr>\n",
       "  </thead>\n",
       "  <tbody>\n",
       "    <tr>\n",
       "      <th>10941</th>\n",
       "      <td>Japan</td>\n",
       "      <td>27.049</td>\n",
       "    </tr>\n",
       "    <tr>\n",
       "      <th>10688</th>\n",
       "      <td>Italy</td>\n",
       "      <td>23.021</td>\n",
       "    </tr>\n",
       "    <tr>\n",
       "      <th>16836</th>\n",
       "      <td>Portugal</td>\n",
       "      <td>21.502</td>\n",
       "    </tr>\n",
       "    <tr>\n",
       "      <th>7914</th>\n",
       "      <td>Germany</td>\n",
       "      <td>21.453</td>\n",
       "    </tr>\n",
       "    <tr>\n",
       "      <th>7170</th>\n",
       "      <td>Finland</td>\n",
       "      <td>21.228</td>\n",
       "    </tr>\n",
       "    <tr>\n",
       "      <th>...</th>\n",
       "      <td>...</td>\n",
       "      <td>...</td>\n",
       "    </tr>\n",
       "    <tr>\n",
       "      <th>20370</th>\n",
       "      <td>Taiwan</td>\n",
       "      <td>NaN</td>\n",
       "    </tr>\n",
       "    <tr>\n",
       "      <th>21258</th>\n",
       "      <td>Turks and Caicos Islands</td>\n",
       "      <td>NaN</td>\n",
       "    </tr>\n",
       "    <tr>\n",
       "      <th>22242</th>\n",
       "      <td>Vatican</td>\n",
       "      <td>NaN</td>\n",
       "    </tr>\n",
       "    <tr>\n",
       "      <th>22581</th>\n",
       "      <td>Western Sahara</td>\n",
       "      <td>NaN</td>\n",
       "    </tr>\n",
       "    <tr>\n",
       "      <th>23018</th>\n",
       "      <td>International</td>\n",
       "      <td>NaN</td>\n",
       "    </tr>\n",
       "  </tbody>\n",
       "</table>\n",
       "<p>212 rows × 2 columns</p>\n",
       "</div>"
      ],
      "text/plain": [
       "                       location  aged_65_older_percent\n",
       "10941                     Japan                 27.049\n",
       "10688                     Italy                 23.021\n",
       "16836                  Portugal                 21.502\n",
       "7914                    Germany                 21.453\n",
       "7170                    Finland                 21.228\n",
       "...                         ...                    ...\n",
       "20370                    Taiwan                    NaN\n",
       "21258  Turks and Caicos Islands                    NaN\n",
       "22242                   Vatican                    NaN\n",
       "22581            Western Sahara                    NaN\n",
       "23018             International                    NaN\n",
       "\n",
       "[212 rows x 2 columns]"
      ]
     },
     "execution_count": 328,
     "metadata": {},
     "output_type": "execute_result"
    }
   ],
   "source": [
    "## avergares in a descending order\n",
    "aged_65_older_per_country.sort_values('aged_65_older_percent', ascending=False)"
   ]
  },
  {
   "cell_type": "code",
   "execution_count": 329,
   "id": "8598cfbe",
   "metadata": {},
   "outputs": [
    {
     "data": {
      "text/html": [
       "<div>\n",
       "<style scoped>\n",
       "    .dataframe tbody tr th:only-of-type {\n",
       "        vertical-align: middle;\n",
       "    }\n",
       "\n",
       "    .dataframe tbody tr th {\n",
       "        vertical-align: top;\n",
       "    }\n",
       "\n",
       "    .dataframe thead th {\n",
       "        text-align: right;\n",
       "    }\n",
       "</style>\n",
       "<table border=\"1\" class=\"dataframe\">\n",
       "  <thead>\n",
       "    <tr style=\"text-align: right;\">\n",
       "      <th></th>\n",
       "      <th>location</th>\n",
       "      <th>aged_65_older_percent</th>\n",
       "    </tr>\n",
       "  </thead>\n",
       "  <tbody>\n",
       "    <tr>\n",
       "      <th>10941</th>\n",
       "      <td>Japan</td>\n",
       "      <td>27.049</td>\n",
       "    </tr>\n",
       "    <tr>\n",
       "      <th>10688</th>\n",
       "      <td>Italy</td>\n",
       "      <td>23.021</td>\n",
       "    </tr>\n",
       "    <tr>\n",
       "      <th>16836</th>\n",
       "      <td>Portugal</td>\n",
       "      <td>21.502</td>\n",
       "    </tr>\n",
       "    <tr>\n",
       "      <th>7914</th>\n",
       "      <td>Germany</td>\n",
       "      <td>21.453</td>\n",
       "    </tr>\n",
       "    <tr>\n",
       "      <th>7170</th>\n",
       "      <td>Finland</td>\n",
       "      <td>21.228</td>\n",
       "    </tr>\n",
       "    <tr>\n",
       "      <th>3293</th>\n",
       "      <td>Bulgaria</td>\n",
       "      <td>20.801</td>\n",
       "    </tr>\n",
       "    <tr>\n",
       "      <th>8249</th>\n",
       "      <td>Greece</td>\n",
       "      <td>20.396</td>\n",
       "    </tr>\n",
       "    <tr>\n",
       "      <th>19964</th>\n",
       "      <td>Sweden</td>\n",
       "      <td>19.985</td>\n",
       "    </tr>\n",
       "    <tr>\n",
       "      <th>11873</th>\n",
       "      <td>Latvia</td>\n",
       "      <td>19.754</td>\n",
       "    </tr>\n",
       "    <tr>\n",
       "      <th>4959</th>\n",
       "      <td>Croatia</td>\n",
       "      <td>19.724</td>\n",
       "    </tr>\n",
       "    <tr>\n",
       "      <th>7333</th>\n",
       "      <td>France</td>\n",
       "      <td>19.718</td>\n",
       "    </tr>\n",
       "    <tr>\n",
       "      <th>5633</th>\n",
       "      <td>Denmark</td>\n",
       "      <td>19.677</td>\n",
       "    </tr>\n",
       "    <tr>\n",
       "      <th>6684</th>\n",
       "      <td>Estonia</td>\n",
       "      <td>19.452</td>\n",
       "    </tr>\n",
       "    <tr>\n",
       "      <th>19388</th>\n",
       "      <td>Spain</td>\n",
       "      <td>19.436</td>\n",
       "    </tr>\n",
       "    <tr>\n",
       "      <th>13375</th>\n",
       "      <td>Malta</td>\n",
       "      <td>19.426</td>\n",
       "    </tr>\n",
       "    <tr>\n",
       "      <th>1227</th>\n",
       "      <td>Austria</td>\n",
       "      <td>19.202</td>\n",
       "    </tr>\n",
       "    <tr>\n",
       "      <th>18851</th>\n",
       "      <td>Slovenia</td>\n",
       "      <td>19.062</td>\n",
       "    </tr>\n",
       "    <tr>\n",
       "      <th>5380</th>\n",
       "      <td>Czech Republic</td>\n",
       "      <td>19.027</td>\n",
       "    </tr>\n",
       "    <tr>\n",
       "      <th>12418</th>\n",
       "      <td>Lithuania</td>\n",
       "      <td>19.002</td>\n",
       "    </tr>\n",
       "    <tr>\n",
       "      <th>14838</th>\n",
       "      <td>Netherlands</td>\n",
       "      <td>18.779</td>\n",
       "    </tr>\n",
       "    <tr>\n",
       "      <th>21989</th>\n",
       "      <td>United States Virgin Islands</td>\n",
       "      <td>18.601</td>\n",
       "    </tr>\n",
       "    <tr>\n",
       "      <th>9377</th>\n",
       "      <td>Hungary</td>\n",
       "      <td>18.577</td>\n",
       "    </tr>\n",
       "    <tr>\n",
       "      <th>2140</th>\n",
       "      <td>Belgium</td>\n",
       "      <td>18.571</td>\n",
       "    </tr>\n",
       "    <tr>\n",
       "      <th>21663</th>\n",
       "      <td>United Kingdom</td>\n",
       "      <td>18.517</td>\n",
       "    </tr>\n",
       "    <tr>\n",
       "      <th>20127</th>\n",
       "      <td>Switzerland</td>\n",
       "      <td>18.436</td>\n",
       "    </tr>\n",
       "    <tr>\n",
       "      <th>17172</th>\n",
       "      <td>Romania</td>\n",
       "      <td>17.850</td>\n",
       "    </tr>\n",
       "    <tr>\n",
       "      <th>18251</th>\n",
       "      <td>Serbia</td>\n",
       "      <td>17.366</td>\n",
       "    </tr>\n",
       "    <tr>\n",
       "      <th>3791</th>\n",
       "      <td>Canada</td>\n",
       "      <td>16.984</td>\n",
       "    </tr>\n",
       "    <tr>\n",
       "      <th>15634</th>\n",
       "      <td>Norway</td>\n",
       "      <td>16.821</td>\n",
       "    </tr>\n",
       "    <tr>\n",
       "      <th>16736</th>\n",
       "      <td>Poland</td>\n",
       "      <td>16.763</td>\n",
       "    </tr>\n",
       "    <tr>\n",
       "      <th>2801</th>\n",
       "      <td>Bosnia and Herzegovina</td>\n",
       "      <td>16.569</td>\n",
       "    </tr>\n",
       "    <tr>\n",
       "      <th>21417</th>\n",
       "      <td>Ukraine</td>\n",
       "      <td>16.462</td>\n",
       "    </tr>\n",
       "    <tr>\n",
       "      <th>5210</th>\n",
       "      <td>Curacao</td>\n",
       "      <td>16.367</td>\n",
       "    </tr>\n",
       "    <tr>\n",
       "      <th>9254</th>\n",
       "      <td>Hong Kong</td>\n",
       "      <td>16.303</td>\n",
       "    </tr>\n",
       "    <tr>\n",
       "      <th>1064</th>\n",
       "      <td>Australia</td>\n",
       "      <td>15.504</td>\n",
       "    </tr>\n",
       "    <tr>\n",
       "      <th>21826</th>\n",
       "      <td>United States</td>\n",
       "      <td>15.413</td>\n",
       "    </tr>\n",
       "    <tr>\n",
       "      <th>15083</th>\n",
       "      <td>New Zealand</td>\n",
       "      <td>15.322</td>\n",
       "    </tr>\n",
       "    <tr>\n",
       "      <th>16938</th>\n",
       "      <td>Puerto Rico</td>\n",
       "      <td>15.168</td>\n",
       "    </tr>\n",
       "    <tr>\n",
       "      <th>18756</th>\n",
       "      <td>Slovakia</td>\n",
       "      <td>15.070</td>\n",
       "    </tr>\n",
       "    <tr>\n",
       "      <th>1892</th>\n",
       "      <td>Barbados</td>\n",
       "      <td>14.952</td>\n",
       "    </tr>\n",
       "    <tr>\n",
       "      <th>7754</th>\n",
       "      <td>Georgia</td>\n",
       "      <td>14.864</td>\n",
       "    </tr>\n",
       "    <tr>\n",
       "      <th>1977</th>\n",
       "      <td>Belarus</td>\n",
       "      <td>14.799</td>\n",
       "    </tr>\n",
       "    <tr>\n",
       "      <th>14136</th>\n",
       "      <td>Montenegro</td>\n",
       "      <td>14.762</td>\n",
       "    </tr>\n",
       "    <tr>\n",
       "      <th>5122</th>\n",
       "      <td>Cuba</td>\n",
       "      <td>14.738</td>\n",
       "    </tr>\n",
       "    <tr>\n",
       "      <th>22067</th>\n",
       "      <td>Uruguay</td>\n",
       "      <td>14.655</td>\n",
       "    </tr>\n",
       "    <tr>\n",
       "      <th>9476</th>\n",
       "      <td>Iceland</td>\n",
       "      <td>14.431</td>\n",
       "    </tr>\n",
       "    <tr>\n",
       "      <th>12581</th>\n",
       "      <td>Luxembourg</td>\n",
       "      <td>14.312</td>\n",
       "    </tr>\n",
       "    <tr>\n",
       "      <th>17333</th>\n",
       "      <td>Russia</td>\n",
       "      <td>14.178</td>\n",
       "    </tr>\n",
       "    <tr>\n",
       "      <th>10281</th>\n",
       "      <td>Ireland</td>\n",
       "      <td>13.928</td>\n",
       "    </tr>\n",
       "    <tr>\n",
       "      <th>19159</th>\n",
       "      <td>South Korea</td>\n",
       "      <td>13.914</td>\n",
       "    </tr>\n",
       "  </tbody>\n",
       "</table>\n",
       "</div>"
      ],
      "text/plain": [
       "                           location  aged_65_older_percent\n",
       "10941                         Japan                 27.049\n",
       "10688                         Italy                 23.021\n",
       "16836                      Portugal                 21.502\n",
       "7914                        Germany                 21.453\n",
       "7170                        Finland                 21.228\n",
       "3293                       Bulgaria                 20.801\n",
       "8249                         Greece                 20.396\n",
       "19964                        Sweden                 19.985\n",
       "11873                        Latvia                 19.754\n",
       "4959                        Croatia                 19.724\n",
       "7333                         France                 19.718\n",
       "5633                        Denmark                 19.677\n",
       "6684                        Estonia                 19.452\n",
       "19388                         Spain                 19.436\n",
       "13375                         Malta                 19.426\n",
       "1227                        Austria                 19.202\n",
       "18851                      Slovenia                 19.062\n",
       "5380                 Czech Republic                 19.027\n",
       "12418                     Lithuania                 19.002\n",
       "14838                   Netherlands                 18.779\n",
       "21989  United States Virgin Islands                 18.601\n",
       "9377                        Hungary                 18.577\n",
       "2140                        Belgium                 18.571\n",
       "21663                United Kingdom                 18.517\n",
       "20127                   Switzerland                 18.436\n",
       "17172                       Romania                 17.850\n",
       "18251                        Serbia                 17.366\n",
       "3791                         Canada                 16.984\n",
       "15634                        Norway                 16.821\n",
       "16736                        Poland                 16.763\n",
       "2801         Bosnia and Herzegovina                 16.569\n",
       "21417                       Ukraine                 16.462\n",
       "5210                        Curacao                 16.367\n",
       "9254                      Hong Kong                 16.303\n",
       "1064                      Australia                 15.504\n",
       "21826                 United States                 15.413\n",
       "15083                   New Zealand                 15.322\n",
       "16938                   Puerto Rico                 15.168\n",
       "18756                      Slovakia                 15.070\n",
       "1892                       Barbados                 14.952\n",
       "7754                        Georgia                 14.864\n",
       "1977                        Belarus                 14.799\n",
       "14136                    Montenegro                 14.762\n",
       "5122                           Cuba                 14.738\n",
       "22067                       Uruguay                 14.655\n",
       "9476                        Iceland                 14.431\n",
       "12581                    Luxembourg                 14.312\n",
       "17333                        Russia                 14.178\n",
       "10281                       Ireland                 13.928\n",
       "19159                   South Korea                 13.914"
      ]
     },
     "execution_count": 329,
     "metadata": {},
     "output_type": "execute_result"
    }
   ],
   "source": [
    "aged_65_older_per_country.sort_values('aged_65_older_percent', ascending=False).iloc[: 50]"
   ]
  },
  {
   "cell_type": "markdown",
   "id": "f684e13c",
   "metadata": {},
   "source": [
    "Coeeficient between news deaths and age \"aged_65_older_percent\""
   ]
  },
  {
   "cell_type": "code",
   "execution_count": 330,
   "id": "51017357",
   "metadata": {},
   "outputs": [
    {
     "data": {
      "text/html": [
       "<div>\n",
       "<style scoped>\n",
       "    .dataframe tbody tr th:only-of-type {\n",
       "        vertical-align: middle;\n",
       "    }\n",
       "\n",
       "    .dataframe tbody tr th {\n",
       "        vertical-align: top;\n",
       "    }\n",
       "\n",
       "    .dataframe thead th {\n",
       "        text-align: right;\n",
       "    }\n",
       "</style>\n",
       "<table border=\"1\" class=\"dataframe\">\n",
       "  <thead>\n",
       "    <tr style=\"text-align: right;\">\n",
       "      <th></th>\n",
       "      <th>location</th>\n",
       "      <th>date</th>\n",
       "      <th>new_cases</th>\n",
       "      <th>new_deaths</th>\n",
       "      <th>population</th>\n",
       "      <th>aged_65_older_percent</th>\n",
       "      <th>gdp_per_capita</th>\n",
       "      <th>hospital_beds_per_thousand</th>\n",
       "      <th>year</th>\n",
       "      <th>month</th>\n",
       "    </tr>\n",
       "  </thead>\n",
       "  <tbody>\n",
       "    <tr>\n",
       "      <th>0</th>\n",
       "      <td>Afghanistan</td>\n",
       "      <td>2019-12-31</td>\n",
       "      <td>0</td>\n",
       "      <td>0</td>\n",
       "      <td>38928341.0</td>\n",
       "      <td>2.581</td>\n",
       "      <td>1803.987</td>\n",
       "      <td>0.5</td>\n",
       "      <td>2019</td>\n",
       "      <td>Dec</td>\n",
       "    </tr>\n",
       "    <tr>\n",
       "      <th>1</th>\n",
       "      <td>Afghanistan</td>\n",
       "      <td>2020-01-01</td>\n",
       "      <td>0</td>\n",
       "      <td>0</td>\n",
       "      <td>38928341.0</td>\n",
       "      <td>2.581</td>\n",
       "      <td>1803.987</td>\n",
       "      <td>0.5</td>\n",
       "      <td>2020</td>\n",
       "      <td>Jan</td>\n",
       "    </tr>\n",
       "    <tr>\n",
       "      <th>2</th>\n",
       "      <td>Afghanistan</td>\n",
       "      <td>2020-01-02</td>\n",
       "      <td>0</td>\n",
       "      <td>0</td>\n",
       "      <td>38928341.0</td>\n",
       "      <td>2.581</td>\n",
       "      <td>1803.987</td>\n",
       "      <td>0.5</td>\n",
       "      <td>2020</td>\n",
       "      <td>Jan</td>\n",
       "    </tr>\n",
       "    <tr>\n",
       "      <th>3</th>\n",
       "      <td>Afghanistan</td>\n",
       "      <td>2020-01-03</td>\n",
       "      <td>0</td>\n",
       "      <td>0</td>\n",
       "      <td>38928341.0</td>\n",
       "      <td>2.581</td>\n",
       "      <td>1803.987</td>\n",
       "      <td>0.5</td>\n",
       "      <td>2020</td>\n",
       "      <td>Jan</td>\n",
       "    </tr>\n",
       "    <tr>\n",
       "      <th>4</th>\n",
       "      <td>Afghanistan</td>\n",
       "      <td>2020-01-04</td>\n",
       "      <td>0</td>\n",
       "      <td>0</td>\n",
       "      <td>38928341.0</td>\n",
       "      <td>2.581</td>\n",
       "      <td>1803.987</td>\n",
       "      <td>0.5</td>\n",
       "      <td>2020</td>\n",
       "      <td>Jan</td>\n",
       "    </tr>\n",
       "  </tbody>\n",
       "</table>\n",
       "</div>"
      ],
      "text/plain": [
       "      location       date  new_cases  new_deaths  population  \\\n",
       "0  Afghanistan 2019-12-31          0           0  38928341.0   \n",
       "1  Afghanistan 2020-01-01          0           0  38928341.0   \n",
       "2  Afghanistan 2020-01-02          0           0  38928341.0   \n",
       "3  Afghanistan 2020-01-03          0           0  38928341.0   \n",
       "4  Afghanistan 2020-01-04          0           0  38928341.0   \n",
       "\n",
       "   aged_65_older_percent  gdp_per_capita  hospital_beds_per_thousand  year  \\\n",
       "0                  2.581        1803.987                         0.5  2019   \n",
       "1                  2.581        1803.987                         0.5  2020   \n",
       "2                  2.581        1803.987                         0.5  2020   \n",
       "3                  2.581        1803.987                         0.5  2020   \n",
       "4                  2.581        1803.987                         0.5  2020   \n",
       "\n",
       "  month  \n",
       "0   Dec  \n",
       "1   Jan  \n",
       "2   Jan  \n",
       "3   Jan  \n",
       "4   Jan  "
      ]
     },
     "execution_count": 330,
     "metadata": {},
     "output_type": "execute_result"
    }
   ],
   "source": [
    "clean_df.head()"
   ]
  },
  {
   "cell_type": "code",
   "execution_count": 331,
   "id": "50e978df",
   "metadata": {},
   "outputs": [
    {
     "data": {
      "text/plain": [
       "0.03849458482284256"
      ]
     },
     "execution_count": 331,
     "metadata": {},
     "output_type": "execute_result"
    }
   ],
   "source": [
    "clean_df['new_deaths'].corr(clean_df['aged_65_older_percent'])"
   ]
  },
  {
   "cell_type": "code",
   "execution_count": 332,
   "id": "b5d60170",
   "metadata": {
    "scrolled": true
   },
   "outputs": [
    {
     "data": {
      "text/html": [
       "<div>\n",
       "<style scoped>\n",
       "    .dataframe tbody tr th:only-of-type {\n",
       "        vertical-align: middle;\n",
       "    }\n",
       "\n",
       "    .dataframe tbody tr th {\n",
       "        vertical-align: top;\n",
       "    }\n",
       "\n",
       "    .dataframe thead th {\n",
       "        text-align: right;\n",
       "    }\n",
       "</style>\n",
       "<table border=\"1\" class=\"dataframe\">\n",
       "  <thead>\n",
       "    <tr style=\"text-align: right;\">\n",
       "      <th></th>\n",
       "      <th>new_cases</th>\n",
       "      <th>new_deaths</th>\n",
       "      <th>population</th>\n",
       "      <th>aged_65_older_percent</th>\n",
       "      <th>gdp_per_capita</th>\n",
       "      <th>hospital_beds_per_thousand</th>\n",
       "      <th>year</th>\n",
       "    </tr>\n",
       "  </thead>\n",
       "  <tbody>\n",
       "    <tr>\n",
       "      <th>new_cases</th>\n",
       "      <td>1.000000</td>\n",
       "      <td>0.918498</td>\n",
       "      <td>0.659216</td>\n",
       "      <td>0.017667</td>\n",
       "      <td>0.011502</td>\n",
       "      <td>-0.012434</td>\n",
       "      <td>0.006151</td>\n",
       "    </tr>\n",
       "    <tr>\n",
       "      <th>new_deaths</th>\n",
       "      <td>0.918498</td>\n",
       "      <td>1.000000</td>\n",
       "      <td>0.624136</td>\n",
       "      <td>0.038495</td>\n",
       "      <td>0.017184</td>\n",
       "      <td>-0.012647</td>\n",
       "      <td>0.005851</td>\n",
       "    </tr>\n",
       "    <tr>\n",
       "      <th>population</th>\n",
       "      <td>0.659216</td>\n",
       "      <td>0.624136</td>\n",
       "      <td>1.000000</td>\n",
       "      <td>-0.022974</td>\n",
       "      <td>-0.052764</td>\n",
       "      <td>-0.029950</td>\n",
       "      <td>-0.008038</td>\n",
       "    </tr>\n",
       "    <tr>\n",
       "      <th>aged_65_older_percent</th>\n",
       "      <td>0.017667</td>\n",
       "      <td>0.038495</td>\n",
       "      <td>-0.022974</td>\n",
       "      <td>1.000000</td>\n",
       "      <td>0.461649</td>\n",
       "      <td>0.648919</td>\n",
       "      <td>-0.020213</td>\n",
       "    </tr>\n",
       "    <tr>\n",
       "      <th>gdp_per_capita</th>\n",
       "      <td>0.011502</td>\n",
       "      <td>0.017184</td>\n",
       "      <td>-0.052764</td>\n",
       "      <td>0.461649</td>\n",
       "      <td>1.000000</td>\n",
       "      <td>0.255495</td>\n",
       "      <td>-0.024224</td>\n",
       "    </tr>\n",
       "    <tr>\n",
       "      <th>hospital_beds_per_thousand</th>\n",
       "      <td>-0.012434</td>\n",
       "      <td>-0.012647</td>\n",
       "      <td>-0.029950</td>\n",
       "      <td>0.648919</td>\n",
       "      <td>0.255495</td>\n",
       "      <td>1.000000</td>\n",
       "      <td>-0.011281</td>\n",
       "    </tr>\n",
       "    <tr>\n",
       "      <th>year</th>\n",
       "      <td>0.006151</td>\n",
       "      <td>0.005851</td>\n",
       "      <td>-0.008038</td>\n",
       "      <td>-0.020213</td>\n",
       "      <td>-0.024224</td>\n",
       "      <td>-0.011281</td>\n",
       "      <td>1.000000</td>\n",
       "    </tr>\n",
       "  </tbody>\n",
       "</table>\n",
       "</div>"
      ],
      "text/plain": [
       "                            new_cases  new_deaths  population  \\\n",
       "new_cases                    1.000000    0.918498    0.659216   \n",
       "new_deaths                   0.918498    1.000000    0.624136   \n",
       "population                   0.659216    0.624136    1.000000   \n",
       "aged_65_older_percent        0.017667    0.038495   -0.022974   \n",
       "gdp_per_capita               0.011502    0.017184   -0.052764   \n",
       "hospital_beds_per_thousand  -0.012434   -0.012647   -0.029950   \n",
       "year                         0.006151    0.005851   -0.008038   \n",
       "\n",
       "                            aged_65_older_percent  gdp_per_capita  \\\n",
       "new_cases                                0.017667        0.011502   \n",
       "new_deaths                               0.038495        0.017184   \n",
       "population                              -0.022974       -0.052764   \n",
       "aged_65_older_percent                    1.000000        0.461649   \n",
       "gdp_per_capita                           0.461649        1.000000   \n",
       "hospital_beds_per_thousand               0.648919        0.255495   \n",
       "year                                    -0.020213       -0.024224   \n",
       "\n",
       "                            hospital_beds_per_thousand      year  \n",
       "new_cases                                    -0.012434  0.006151  \n",
       "new_deaths                                   -0.012647  0.005851  \n",
       "population                                   -0.029950 -0.008038  \n",
       "aged_65_older_percent                         0.648919 -0.020213  \n",
       "gdp_per_capita                                0.255495 -0.024224  \n",
       "hospital_beds_per_thousand                    1.000000 -0.011281  \n",
       "year                                         -0.011281  1.000000  "
      ]
     },
     "execution_count": 332,
     "metadata": {},
     "output_type": "execute_result"
    }
   ],
   "source": [
    "clean_df.corr()"
   ]
  },
  {
   "cell_type": "code",
   "execution_count": 333,
   "id": "57c92f15",
   "metadata": {},
   "outputs": [
    {
     "data": {
      "text/plain": [
       "<AxesSubplot:>"
      ]
     },
     "execution_count": 333,
     "metadata": {},
     "output_type": "execute_result"
    },
    {
     "data": {
      "image/png": "[encoded data removed]",
      "text/plain": [
       "<Figure size 1008x576 with 2 Axes>"
      ]
     },
     "metadata": {
      "needs_background": "light"
     },
     "output_type": "display_data"
    }
   ],
   "source": [
    "plt.figure(figsize=(14, 8))\n",
    "sb.heatmap(clean_df.corr(), annot=True, cmap='Blues')"
   ]
  },
  {
   "cell_type": "code",
   "execution_count": null,
   "id": "58a60761",
   "metadata": {},
   "outputs": [],
   "source": []
  },
  {
   "cell_type": "markdown",
   "id": "fd07ec0a",
   "metadata": {},
   "source": [
    "Visualizing the relationship between gdp_per_capita and new_cases"
   ]
  },
  {
   "cell_type": "code",
   "execution_count": 334,
   "id": "24198b4a",
   "metadata": {},
   "outputs": [
    {
     "data": {
      "text/plain": [
       "Text(0.5, 1.0, 'New Cases vs GDP_per_capita')"
      ]
     },
     "execution_count": 334,
     "metadata": {},
     "output_type": "execute_result"
    },
    {
     "data": {
      "image/png": "[encoded data removed]",
      "text/plain": [
       "<Figure size 1008x576 with 1 Axes>"
      ]
     },
     "metadata": {
      "needs_background": "light"
     },
     "output_type": "display_data"
    }
   ],
   "source": [
    "plt.figure(figsize=(14,8))\n",
    "sb.regplot(x='gdp_per_capita', y='new_cases', data=clean_df)\n",
    "plt.title('New Cases vs GDP_per_capita')\n"
   ]
  },
  {
   "cell_type": "markdown",
   "id": "d8b22224",
   "metadata": {},
   "source": [
    "Total Cases over the months "
   ]
  },
  {
   "cell_type": "code",
   "execution_count": 335,
   "id": "0db7e409",
   "metadata": {},
   "outputs": [],
   "source": [
    "monthly_cases = clean_df.groupby('month').new_cases.sum()"
   ]
  },
  {
   "cell_type": "code",
   "execution_count": 336,
   "id": "a743dff7",
   "metadata": {},
   "outputs": [],
   "source": [
    "#Sort the short month names \n",
    "monthly_cases_sorted = monthly_cases.reindex(['Jan', 'Feb', 'Mar', 'Apr', 'May', 'Jun', 'Jul', 'Aug', 'Sep', 'Oct', 'Nov', 'Dec'])\n"
   ]
  },
  {
   "cell_type": "code",
   "execution_count": 337,
   "id": "cf223a47",
   "metadata": {},
   "outputs": [],
   "source": [
    "\n",
    "monthly_cases = monthly_cases.sort_index()"
   ]
  },
  {
   "cell_type": "code",
   "execution_count": 338,
   "id": "c5af04f9",
   "metadata": {},
   "outputs": [
    {
     "data": {
      "image/png": "[encoded data removed]",
      "text/plain": [
       "<Figure size 720x432 with 1 Axes>"
      ]
     },
     "metadata": {
      "needs_background": "light"
     },
     "output_type": "display_data"
    }
   ],
   "source": [
    "plt.figure(figsize=(10, 6))\n",
    "monthly_cases_sorted.plot(kind='bar', color='skyblue')\n",
    "plt.title('Total New Cases by Month')\n",
    "plt.xlabel('Month')\n",
    "plt.ylabel('Total New Cases')\n",
    "plt.xticks(rotation=45)\n",
    "plt.grid(axis='y', linestyle='--', alpha=0.7)\n",
    "plt.tight_layout()\n",
    "plt.show()"
   ]
  },
  {
   "cell_type": "markdown",
   "id": "b3033dc6",
   "metadata": {},
   "source": [
    "The month with the highest number of reported cases was May."
   ]
  },
  {
   "cell_type": "code",
   "execution_count": null,
   "id": "06c5903a",
   "metadata": {},
   "outputs": [],
   "source": []
  },
  {
   "cell_type": "markdown",
   "id": "317bc341",
   "metadata": {},
   "source": [
    "Total Deaths per Month"
   ]
  },
  {
   "cell_type": "code",
   "execution_count": 339,
   "id": "26ca6b05",
   "metadata": {},
   "outputs": [],
   "source": [
    "monthly_deaths = clean_df.groupby('month').new_deaths.sum()\n",
    "#Sort the short month names "
   ]
  },
  {
   "cell_type": "code",
   "execution_count": 340,
   "id": "95735a9b",
   "metadata": {},
   "outputs": [],
   "source": [
    "monthly_deaths_sorted = monthly_deaths.reindex(['Jan', 'Feb', 'Mar', 'Apr', 'May', 'Jun', 'Jul', 'Aug', 'Sep', 'Oct', 'Nov', 'Dec'])"
   ]
  },
  {
   "cell_type": "code",
   "execution_count": 341,
   "id": "b027849d",
   "metadata": {},
   "outputs": [],
   "source": [
    "monthly_deaths = monthly_deaths.sort_index()"
   ]
  },
  {
   "cell_type": "code",
   "execution_count": 342,
   "id": "2aeab889",
   "metadata": {},
   "outputs": [
    {
     "data": {
      "image/png": "[encoded data removed]",
      "text/plain": [
       "<Figure size 720x432 with 1 Axes>"
      ]
     },
     "metadata": {
      "needs_background": "light"
     },
     "output_type": "display_data"
    }
   ],
   "source": [
    "plt.figure(figsize=(10, 6))\n",
    "monthly_deaths_sorted.plot(kind='bar', color='skyblue')\n",
    "plt.title('Total deaths per Month')\n",
    "plt.xlabel('Month')\n",
    "plt.ylabel('Total Deaths Per Month')\n",
    "plt.xticks(rotation=45)\n",
    "plt.grid(axis='y', linestyle='--', alpha=0.7)\n",
    "plt.tight_layout()\n",
    "plt.show()"
   ]
  },
  {
   "cell_type": "markdown",
   "id": "0b178f89",
   "metadata": {},
   "source": [
    "April had the highest number of deaths "
   ]
  },
  {
   "cell_type": "code",
   "execution_count": null,
   "id": "c0818055",
   "metadata": {},
   "outputs": [],
   "source": []
  },
  {
   "cell_type": "code",
   "execution_count": null,
   "id": "65c1b170",
   "metadata": {},
   "outputs": [],
   "source": []
  },
  {
   "cell_type": "code",
   "execution_count": null,
   "id": "0f4ef04d",
   "metadata": {},
   "outputs": [],
   "source": []
  },
  {
   "cell_type": "code",
   "execution_count": null,
   "id": "b5272cee",
   "metadata": {},
   "outputs": [],
   "source": []
  },
  {
   "cell_type": "code",
   "execution_count": null,
   "id": "d048049a",
   "metadata": {},
   "outputs": [],
   "source": []
  },
  {
   "cell_type": "code",
   "execution_count": null,
   "id": "beb731ba",
   "metadata": {},
   "outputs": [],
   "source": []
  },
  {
   "cell_type": "code",
   "execution_count": 343,
   "id": "0bd0eb38",
   "metadata": {},
   "outputs": [],
   "source": [
    "\n",
    "\n",
    "#Function to assist with plotting loan_clean barcharts \n",
    "\n",
    "def horizontal_bar(colname):\n",
    "    output_bar = sb.countplot(x=clean_df[colname], color=sb.color_palette()[4])\n",
    "    for bar in output_bar.containers:\n",
    "        output_bar.bar_label(bar)\n",
    "    return output_bar\n",
    "\n"
   ]
  },
  {
   "cell_type": "code",
   "execution_count": 344,
   "id": "5519dfa0",
   "metadata": {},
   "outputs": [],
   "source": [
    "\n",
    "sums = clean_df.groupby('location').new_deaths.sum().sort_values(ascending=False)\n",
    "top20 = sums.head(15)\n",
    "\n"
   ]
  },
  {
   "cell_type": "code",
   "execution_count": 345,
   "id": "78d0aa96",
   "metadata": {},
   "outputs": [
    {
     "name": "stdout",
     "output_type": "stream",
     "text": [
      "<class 'pandas.core.series.Series'>\n"
     ]
    }
   ],
   "source": [
    "print(type(top20))"
   ]
  },
  {
   "cell_type": "code",
   "execution_count": 346,
   "id": "2a5c04bf",
   "metadata": {},
   "outputs": [
    {
     "name": "stdout",
     "output_type": "stream",
     "text": [
      "location\n",
      "World             411195\n",
      "United States     112006\n",
      "United Kingdom     40883\n",
      "Brazil             38406\n",
      "Italy              34043\n",
      "France             29296\n",
      "Spain              27136\n",
      "Mexico             14649\n",
      "Belgium             9619\n",
      "Germany             8729\n",
      "Iran                8425\n",
      "Canada              7897\n",
      "India               7745\n",
      "Russia              6141\n",
      "Netherlands         6031\n",
      "Name: new_deaths, dtype: int64\n"
     ]
    }
   ],
   "source": [
    "print(top20)"
   ]
  },
  {
   "cell_type": "code",
   "execution_count": 347,
   "id": "1d486e1a",
   "metadata": {},
   "outputs": [
    {
     "data": {
      "text/plain": [
       "<AxesSubplot:xlabel='location'>"
      ]
     },
     "execution_count": 347,
     "metadata": {},
     "output_type": "execute_result"
    },
    {
     "data": {
      "image/png": "[encoded data removed]",
      "text/plain": [
       "<Figure size 432x288 with 1 Axes>"
      ]
     },
     "metadata": {
      "needs_background": "light"
     },
     "output_type": "display_data"
    }
   ],
   "source": [
    "top20.plot(kind='bar')"
   ]
  },
  {
   "cell_type": "code",
   "execution_count": 348,
   "id": "77b628df",
   "metadata": {},
   "outputs": [],
   "source": [
    "delete_index = 0\n",
    "new_top20 = top20.drop('World')"
   ]
  },
  {
   "cell_type": "code",
   "execution_count": 349,
   "id": "9fb70935",
   "metadata": {},
   "outputs": [
    {
     "data": {
      "text/plain": [
       "<AxesSubplot:xlabel='location'>"
      ]
     },
     "execution_count": 349,
     "metadata": {},
     "output_type": "execute_result"
    },
    {
     "data": {
      "image/png": "[encoded data removed]",
      "text/plain": [
       "<Figure size 432x288 with 1 Axes>"
      ]
     },
     "metadata": {
      "needs_background": "light"
     },
     "output_type": "display_data"
    }
   ],
   "source": [
    "new_top20.plot(kind='bar')"
   ]
  },
  {
   "cell_type": "code",
   "execution_count": 350,
   "id": "e4e4f3dc",
   "metadata": {},
   "outputs": [],
   "source": [
    "least_deaths = clean_df.groupby('location').new_deaths.sum().sort_values(ascending=True)\n",
    "last20 = least_deaths.head(15)"
   ]
  },
  {
   "cell_type": "code",
   "execution_count": 351,
   "id": "70eeae33",
   "metadata": {},
   "outputs": [
    {
     "data": {
      "text/plain": [
       "location\n",
       "Bonaire Sint Eustatius and Saba     0\n",
       "Timor                               0\n",
       "French Polynesia                    0\n",
       "Namibia                             0\n",
       "Fiji                                0\n",
       "Cambodia                            0\n",
       "Falkland Islands                    0\n",
       "Bhutan                              0\n",
       "Faeroe Islands                      0\n",
       "Eritrea                             0\n",
       "Papua New Guinea                    0\n",
       "Dominica                            0\n",
       "Saint Kitts and Nevis               0\n",
       "Saint Lucia                         0\n",
       "Seychelles                          0\n",
       "New Caledonia                       0\n",
       "Gibraltar                           0\n",
       "Saint Vincent and the Grenadines    0\n",
       "Vietnam                             0\n",
       "Anguilla                            0\n",
       "Grenada                             0\n",
       "Lesotho                             0\n",
       "Mongolia                            0\n",
       "Greenland                           0\n",
       "Uganda                              0\n",
       "Vatican                             0\n",
       "Laos                                0\n",
       "Hong Kong                           0\n",
       "Montserrat                          1\n",
       "Cayman Islands                      1\n",
       "Liechtenstein                       1\n",
       "Burundi                             1\n",
       "British Virgin Islands              1\n",
       "Botswana                            1\n",
       "Curacao                             1\n",
       "Turks and Caicos Islands            1\n",
       "Gambia                              1\n",
       "Western Sahara                      1\n",
       "Comoros                             2\n",
       "Northern Mariana Islands            2\n",
       "Rwanda                              2\n",
       "Suriname                            2\n",
       "Brunei                              2\n",
       "Mozambique                          2\n",
       "Belize                              2\n",
       "Aruba                               3\n",
       "Swaziland                           3\n",
       "Antigua and Barbuda                 3\n",
       "Malawi                              4\n",
       "Zimbabwe                            4\n",
       "Name: new_deaths, dtype: int64"
      ]
     },
     "execution_count": 351,
     "metadata": {},
     "output_type": "execute_result"
    }
   ],
   "source": [
    "least_deaths.head(50)"
   ]
  },
  {
   "cell_type": "code",
   "execution_count": 352,
   "id": "a1b5d092",
   "metadata": {},
   "outputs": [
    {
     "data": {
      "text/html": [
       "<div>\n",
       "<style scoped>\n",
       "    .dataframe tbody tr th:only-of-type {\n",
       "        vertical-align: middle;\n",
       "    }\n",
       "\n",
       "    .dataframe tbody tr th {\n",
       "        vertical-align: top;\n",
       "    }\n",
       "\n",
       "    .dataframe thead th {\n",
       "        text-align: right;\n",
       "    }\n",
       "</style>\n",
       "<table border=\"1\" class=\"dataframe\">\n",
       "  <thead>\n",
       "    <tr style=\"text-align: right;\">\n",
       "      <th></th>\n",
       "      <th>location</th>\n",
       "      <th>date</th>\n",
       "      <th>new_cases</th>\n",
       "      <th>new_deaths</th>\n",
       "      <th>population</th>\n",
       "      <th>aged_65_older_percent</th>\n",
       "      <th>gdp_per_capita</th>\n",
       "      <th>hospital_beds_per_thousand</th>\n",
       "      <th>year</th>\n",
       "      <th>month</th>\n",
       "    </tr>\n",
       "  </thead>\n",
       "  <tbody>\n",
       "    <tr>\n",
       "      <th>0</th>\n",
       "      <td>Afghanistan</td>\n",
       "      <td>2019-12-31</td>\n",
       "      <td>0</td>\n",
       "      <td>0</td>\n",
       "      <td>38928341.0</td>\n",
       "      <td>2.581</td>\n",
       "      <td>1803.987</td>\n",
       "      <td>0.5</td>\n",
       "      <td>2019</td>\n",
       "      <td>Dec</td>\n",
       "    </tr>\n",
       "    <tr>\n",
       "      <th>1</th>\n",
       "      <td>Afghanistan</td>\n",
       "      <td>2020-01-01</td>\n",
       "      <td>0</td>\n",
       "      <td>0</td>\n",
       "      <td>38928341.0</td>\n",
       "      <td>2.581</td>\n",
       "      <td>1803.987</td>\n",
       "      <td>0.5</td>\n",
       "      <td>2020</td>\n",
       "      <td>Jan</td>\n",
       "    </tr>\n",
       "    <tr>\n",
       "      <th>2</th>\n",
       "      <td>Afghanistan</td>\n",
       "      <td>2020-01-02</td>\n",
       "      <td>0</td>\n",
       "      <td>0</td>\n",
       "      <td>38928341.0</td>\n",
       "      <td>2.581</td>\n",
       "      <td>1803.987</td>\n",
       "      <td>0.5</td>\n",
       "      <td>2020</td>\n",
       "      <td>Jan</td>\n",
       "    </tr>\n",
       "    <tr>\n",
       "      <th>3</th>\n",
       "      <td>Afghanistan</td>\n",
       "      <td>2020-01-03</td>\n",
       "      <td>0</td>\n",
       "      <td>0</td>\n",
       "      <td>38928341.0</td>\n",
       "      <td>2.581</td>\n",
       "      <td>1803.987</td>\n",
       "      <td>0.5</td>\n",
       "      <td>2020</td>\n",
       "      <td>Jan</td>\n",
       "    </tr>\n",
       "    <tr>\n",
       "      <th>4</th>\n",
       "      <td>Afghanistan</td>\n",
       "      <td>2020-01-04</td>\n",
       "      <td>0</td>\n",
       "      <td>0</td>\n",
       "      <td>38928341.0</td>\n",
       "      <td>2.581</td>\n",
       "      <td>1803.987</td>\n",
       "      <td>0.5</td>\n",
       "      <td>2020</td>\n",
       "      <td>Jan</td>\n",
       "    </tr>\n",
       "    <tr>\n",
       "      <th>...</th>\n",
       "      <td>...</td>\n",
       "      <td>...</td>\n",
       "      <td>...</td>\n",
       "      <td>...</td>\n",
       "      <td>...</td>\n",
       "      <td>...</td>\n",
       "      <td>...</td>\n",
       "      <td>...</td>\n",
       "      <td>...</td>\n",
       "      <td>...</td>\n",
       "    </tr>\n",
       "    <tr>\n",
       "      <th>148</th>\n",
       "      <td>Afghanistan</td>\n",
       "      <td>2020-06-06</td>\n",
       "      <td>915</td>\n",
       "      <td>9</td>\n",
       "      <td>38928341.0</td>\n",
       "      <td>2.581</td>\n",
       "      <td>1803.987</td>\n",
       "      <td>0.5</td>\n",
       "      <td>2020</td>\n",
       "      <td>Jun</td>\n",
       "    </tr>\n",
       "    <tr>\n",
       "      <th>149</th>\n",
       "      <td>Afghanistan</td>\n",
       "      <td>2020-06-07</td>\n",
       "      <td>582</td>\n",
       "      <td>18</td>\n",
       "      <td>38928341.0</td>\n",
       "      <td>2.581</td>\n",
       "      <td>1803.987</td>\n",
       "      <td>0.5</td>\n",
       "      <td>2020</td>\n",
       "      <td>Jun</td>\n",
       "    </tr>\n",
       "    <tr>\n",
       "      <th>150</th>\n",
       "      <td>Afghanistan</td>\n",
       "      <td>2020-06-08</td>\n",
       "      <td>791</td>\n",
       "      <td>30</td>\n",
       "      <td>38928341.0</td>\n",
       "      <td>2.581</td>\n",
       "      <td>1803.987</td>\n",
       "      <td>0.5</td>\n",
       "      <td>2020</td>\n",
       "      <td>Jun</td>\n",
       "    </tr>\n",
       "    <tr>\n",
       "      <th>151</th>\n",
       "      <td>Afghanistan</td>\n",
       "      <td>2020-06-09</td>\n",
       "      <td>575</td>\n",
       "      <td>12</td>\n",
       "      <td>38928341.0</td>\n",
       "      <td>2.581</td>\n",
       "      <td>1803.987</td>\n",
       "      <td>0.5</td>\n",
       "      <td>2020</td>\n",
       "      <td>Jun</td>\n",
       "    </tr>\n",
       "    <tr>\n",
       "      <th>152</th>\n",
       "      <td>Afghanistan</td>\n",
       "      <td>2020-06-10</td>\n",
       "      <td>542</td>\n",
       "      <td>15</td>\n",
       "      <td>38928341.0</td>\n",
       "      <td>2.581</td>\n",
       "      <td>1803.987</td>\n",
       "      <td>0.5</td>\n",
       "      <td>2020</td>\n",
       "      <td>Jun</td>\n",
       "    </tr>\n",
       "  </tbody>\n",
       "</table>\n",
       "<p>153 rows × 10 columns</p>\n",
       "</div>"
      ],
      "text/plain": [
       "        location       date  new_cases  new_deaths  population  \\\n",
       "0    Afghanistan 2019-12-31          0           0  38928341.0   \n",
       "1    Afghanistan 2020-01-01          0           0  38928341.0   \n",
       "2    Afghanistan 2020-01-02          0           0  38928341.0   \n",
       "3    Afghanistan 2020-01-03          0           0  38928341.0   \n",
       "4    Afghanistan 2020-01-04          0           0  38928341.0   \n",
       "..           ...        ...        ...         ...         ...   \n",
       "148  Afghanistan 2020-06-06        915           9  38928341.0   \n",
       "149  Afghanistan 2020-06-07        582          18  38928341.0   \n",
       "150  Afghanistan 2020-06-08        791          30  38928341.0   \n",
       "151  Afghanistan 2020-06-09        575          12  38928341.0   \n",
       "152  Afghanistan 2020-06-10        542          15  38928341.0   \n",
       "\n",
       "     aged_65_older_percent  gdp_per_capita  hospital_beds_per_thousand  year  \\\n",
       "0                    2.581        1803.987                         0.5  2019   \n",
       "1                    2.581        1803.987                         0.5  2020   \n",
       "2                    2.581        1803.987                         0.5  2020   \n",
       "3                    2.581        1803.987                         0.5  2020   \n",
       "4                    2.581        1803.987                         0.5  2020   \n",
       "..                     ...             ...                         ...   ...   \n",
       "148                  2.581        1803.987                         0.5  2020   \n",
       "149                  2.581        1803.987                         0.5  2020   \n",
       "150                  2.581        1803.987                         0.5  2020   \n",
       "151                  2.581        1803.987                         0.5  2020   \n",
       "152                  2.581        1803.987                         0.5  2020   \n",
       "\n",
       "    month  \n",
       "0     Dec  \n",
       "1     Jan  \n",
       "2     Jan  \n",
       "3     Jan  \n",
       "4     Jan  \n",
       "..    ...  \n",
       "148   Jun  \n",
       "149   Jun  \n",
       "150   Jun  \n",
       "151   Jun  \n",
       "152   Jun  \n",
       "\n",
       "[153 rows x 10 columns]"
      ]
     },
     "execution_count": 352,
     "metadata": {},
     "output_type": "execute_result"
    }
   ],
   "source": [
    "clean_df[clean_df['location'] == 'Afghanistan']"
   ]
  },
  {
   "cell_type": "code",
   "execution_count": 353,
   "id": "04f71f21",
   "metadata": {},
   "outputs": [
    {
     "data": {
      "text/plain": [
       "month\n",
       "Dec        0\n",
       "Jan        0\n",
       "Feb        1\n",
       "Mar      140\n",
       "Apr     1808\n",
       "Jun     6934\n",
       "May    12576\n",
       "Name: new_cases, dtype: int64"
      ]
     },
     "execution_count": 353,
     "metadata": {},
     "output_type": "execute_result"
    }
   ],
   "source": [
    "clean_df[clean_df['location'] == 'Afghanistan'].groupby('month').new_cases.sum().sort_values(ascending=True)\n"
   ]
  }
 ],
 "metadata": {
  "kernelspec": {
   "display_name": "Python 3",
   "language": "python",
   "name": "python3"
  },
  "language_info": {
   "codemirror_mode": {
    "name": "ipython",
    "version": 3
   },
   "file_extension": ".py",
   "mimetype": "text/x-python",
   "name": "python",
   "nbconvert_exporter": "python",
   "pygments_lexer": "ipython3",
   "version": "3.9.12"
  }
 },
 "nbformat": 4,
 "nbformat_minor": 5
}
